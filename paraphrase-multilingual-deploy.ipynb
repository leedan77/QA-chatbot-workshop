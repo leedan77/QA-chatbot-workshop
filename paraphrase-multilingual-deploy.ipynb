{
 "cells": [
  {
   "cell_type": "code",
   "execution_count": 14,
   "id": "9f413314-c410-43d3-bb3a-ba0aa18ec1be",
   "metadata": {
    "tags": []
   },
   "outputs": [],
   "source": [
    "!pip install huggingface-hub -Uqq"
   ]
  },
  {
   "cell_type": "code",
   "execution_count": 16,
   "id": "be112a00-cbef-4387-b0d7-80e5e7b7030d",
   "metadata": {
    "tags": []
   },
   "outputs": [],
   "source": [
    "from huggingface_hub import snapshot_download\n",
    "from pathlib import Path\n",
    "\n",
    "local_model_path = Path(\"./sentence2emb-model\")\n",
    "local_model_path.mkdir(exist_ok=True)\n",
    "model_name = \"sentence-transformers/paraphrase-multilingual-mpnet-base-v2\"\n",
    "commit_hash = \"ef15aed8b328d308d7237b9bf15269f2cd19e268\""
   ]
  },
  {
   "cell_type": "code",
   "execution_count": 19,
   "id": "902798dc-227b-4191-ade7-b736571543ac",
   "metadata": {
    "tags": []
   },
   "outputs": [
    {
     "name": "stderr",
     "output_type": "stream",
     "text": [
      "Fetching 13 files:   0%|          | 0/13 [00:00<?, ?it/s]\n",
      "Downloading (…)nce_bert_config.json: 100%|██████████| 53.0/53.0 [00:00<00:00, 4.26kB/s]\n",
      "\n",
      "\n",
      "Downloading (…)f2cd19e268/README.md:   0%|          | 0.00/3.77k [00:00<?, ?B/s]\u001b[A\u001b[A\n",
      "Downloading (…)f2cd19e268/README.md: 100%|██████████| 3.77k/3.77k [00:00<00:00, 87.8kB/s]\n",
      "\n",
      "\n",
      "Downloading (…)ce_transformers.json:   0%|          | 0.00/122 [00:00<?, ?B/s]\u001b[A\u001b[A\n",
      "\n",
      "\n",
      "Downloading (…)ce_transformers.json: 100%|██████████| 122/122 [00:00<00:00, 4.03kB/s][A\n",
      "\n",
      "\n",
      "Downloading (…)9e268/.gitattributes: 100%|██████████| 690/690 [00:00<00:00, 20.1kB/s]\n",
      "\n",
      "\n",
      "\n",
      "Downloading (…)_Pooling/config.json:   0%|          | 0.00/190 [00:00<?, ?B/s]\u001b[A\u001b[A\u001b[A\n",
      "\n",
      "\n",
      "\n",
      "Downloading (…)d19e268/modules.json: 100%|██████████| 229/229 [00:00<00:00, 4.40kB/s][A\u001b[A\n",
      "Downloading (…)_Pooling/config.json: 100%|██████████| 190/190 [00:00<00:00, 4.66kB/s]\n",
      "Downloading (…)cd19e268/config.json: 100%|██████████| 723/723 [00:00<00:00, 21.4kB/s]\n",
      "\n",
      "Fetching 13 files:   8%|▊         | 1/13 [00:00<00:08,  1.39it/s]0<00:16, 65.4MB/s]\u001b[A\n",
      "\n",
      "Downloading (…)tencepiece.bpe.model:   0%|          | 0.00/5.07M [00:00<?, ?B/s]\u001b[A\u001b[A\n",
      "Downloading (…)tencepiece.bpe.model: 100%|██████████| 5.07M/5.07M [00:00<00:00, 51.2MB/s]\n",
      "\n",
      "Downloading pytorch_model.bin:   4%|▍         | 41.9M/1.11G [00:00<00:11, 96.5MB/s]\u001b[A\n",
      "\n",
      "Downloading (…)cial_tokens_map.json: 100%|██████████| 239/239 [00:00<00:00, 33.7kB/s]\n",
      "\n",
      "Downloading pytorch_model.bin:   6%|▌         | 62.9M/1.11G [00:00<00:08, 128MB/s] \u001b[A\n",
      "\n",
      "Downloading (…)okenizer_config.json: 100%|██████████| 402/402 [00:00<00:00, 97.6kB/s]\n",
      "\n",
      "Downloading pytorch_model.bin:   8%|▊         | 94.4M/1.11G [00:00<00:05, 181MB/s]\u001b[A\n",
      "Downloading pytorch_model.bin:  12%|█▏        | 136M/1.11G [00:00<00:04, 243MB/s] \u001b[A\n",
      "\n",
      "Downloading tf_model.h5:   0%|          | 0.00/1.11G [00:00<?, ?B/s]\u001b[A\u001b[A\n",
      "\n",
      "\n",
      "Downloading (…)9e268/tokenizer.json:   0%|          | 0.00/9.08M [00:00<?, ?B/s]\u001b[A\u001b[A\u001b[A\n",
      "Downloading (…)9e268/tokenizer.json: 100%|██████████| 9.08M/9.08M [00:00<00:00, 102MB/s]\n",
      "\n",
      "\n",
      "Downloading tf_model.h5:   2%|▏         | 21.0M/1.11G [00:00<00:13, 81.3MB/s]\u001b[A\u001b[A\n",
      "Downloading pytorch_model.bin:  19%|█▉        | 210M/1.11G [00:01<00:03, 261MB/s]\u001b[A\n",
      "Downloading pytorch_model.bin:  22%|██▏       | 241M/1.11G [00:01<00:03, 271MB/s]\u001b[A\n",
      "Downloading pytorch_model.bin:  25%|██▌       | 283M/1.11G [00:01<00:02, 303MB/s]\u001b[A\n",
      "\n",
      "Downloading tf_model.h5:   4%|▍         | 41.9M/1.11G [00:00<00:15, 69.5MB/s]\u001b[A\u001b[A\n",
      "Downloading pytorch_model.bin:  29%|██▉       | 325M/1.11G [00:01<00:02, 303MB/s]\u001b[A\n",
      "Downloading pytorch_model.bin:  33%|███▎      | 367M/1.11G [00:01<00:02, 317MB/s]\u001b[A\n",
      "Downloading pytorch_model.bin:  37%|███▋      | 409M/1.11G [00:01<00:02, 335MB/s]\u001b[A\n",
      "\n",
      "Downloading tf_model.h5:   6%|▌         | 62.9M/1.11G [00:00<00:16, 65.2MB/s]\u001b[A\u001b[A\n",
      "Downloading pytorch_model.bin:  41%|████      | 451M/1.11G [00:01<00:02, 314MB/s]\u001b[A\n",
      "Downloading pytorch_model.bin:  44%|████▍     | 493M/1.11G [00:01<00:01, 327MB/s]\u001b[A\n",
      "Downloading pytorch_model.bin:  48%|████▊     | 535M/1.11G [00:02<00:01, 324MB/s]\u001b[A\n",
      "Downloading pytorch_model.bin:  52%|█████▏    | 577M/1.11G [00:02<00:01, 318MB/s]\u001b[A\n",
      "Downloading pytorch_model.bin:  56%|█████▌    | 619M/1.11G [00:02<00:01, 318MB/s]\u001b[A\n",
      "Downloading pytorch_model.bin:  59%|█████▉    | 661M/1.11G [00:02<00:01, 309MB/s]\u001b[A\n",
      "Downloading pytorch_model.bin:  63%|██████▎   | 703M/1.11G [00:02<00:01, 324MB/s]\u001b[A\n",
      "\n",
      "Downloading tf_model.h5:   7%|▋         | 73.4M/1.11G [00:01<00:33, 31.5MB/s]\u001b[A\u001b[A\n",
      "Downloading pytorch_model.bin:  67%|██████▋   | 744M/1.11G [00:02<00:01, 300MB/s]\u001b[A\n",
      "Downloading pytorch_model.bin:  71%|███████   | 786M/1.11G [00:02<00:01, 321MB/s]\u001b[A\n",
      "Downloading pytorch_model.bin:  74%|███████▍  | 828M/1.11G [00:02<00:00, 334MB/s]\u001b[A\n",
      "Downloading pytorch_model.bin:  78%|███████▊  | 870M/1.11G [00:03<00:00, 335MB/s]\u001b[A\n",
      "\n",
      "Downloading tf_model.h5:   8%|▊         | 94.4M/1.11G [00:02<00:29, 34.1MB/s]\u001b[A\u001b[A\n",
      "Downloading pytorch_model.bin:  82%|████████▏ | 912M/1.11G [00:03<00:00, 313MB/s]\u001b[A\n",
      "Downloading pytorch_model.bin:  86%|████████▌ | 954M/1.11G [00:03<00:00, 333MB/s]\u001b[A\n",
      "\n",
      "Downloading tf_model.h5:  10%|█         | 115M/1.11G [00:02<00:23, 42.7MB/s] \u001b[A\u001b[A\n",
      "Downloading pytorch_model.bin:  90%|████████▉ | 996M/1.11G [00:03<00:00, 307MB/s]\u001b[A\n",
      "Downloading pytorch_model.bin:  93%|█████████▎| 1.04G/1.11G [00:03<00:00, 331MB/s]\u001b[A\n",
      "Downloading pytorch_model.bin:  97%|█████████▋| 1.08G/1.11G [00:03<00:00, 337MB/s]\u001b[A\n",
      "\n",
      "Downloading pytorch_model.bin: 100%|██████████| 1.11G/1.11G [00:03<00:00, 286MB/s]\n",
      "\n",
      "\n",
      "Downloading tf_model.h5:  13%|█▎        | 147M/1.11G [00:03<00:20, 46.9MB/s]\u001b[A\u001b[A\n",
      "\n",
      "Downloading tf_model.h5:  14%|█▍        | 157M/1.11G [00:03<00:19, 48.1MB/s]\u001b[A\u001b[A\n",
      "\n",
      "Downloading tf_model.h5:  15%|█▌        | 168M/1.11G [00:03<00:22, 41.6MB/s]\u001b[A\u001b[A\n",
      "\n",
      "Downloading tf_model.h5:  16%|█▌        | 178M/1.11G [00:04<00:21, 43.1MB/s]\u001b[A\u001b[A\n",
      "\n",
      "Downloading tf_model.h5:  18%|█▊        | 199M/1.11G [00:04<00:17, 51.9MB/s]\u001b[A\u001b[A\n",
      "\n",
      "Downloading tf_model.h5:  20%|█▉        | 220M/1.11G [00:04<00:15, 56.8MB/s]\u001b[A\u001b[A\n",
      "\n",
      "Downloading tf_model.h5:  22%|██▏       | 241M/1.11G [00:04<00:14, 60.7MB/s]\u001b[A\u001b[A\n",
      "\n",
      "Downloading tf_model.h5:  23%|██▎       | 252M/1.11G [00:05<00:14, 58.4MB/s]\u001b[A\u001b[A\n",
      "\n",
      "Downloading tf_model.h5:  24%|██▎       | 262M/1.11G [00:05<00:16, 52.5MB/s]\u001b[A\u001b[A\n",
      "\n",
      "Downloading tf_model.h5:  25%|██▍       | 273M/1.11G [00:05<00:18, 44.7MB/s]\u001b[A\u001b[A\n",
      "\n",
      "Downloading tf_model.h5:  25%|██▌       | 283M/1.11G [00:06<00:20, 41.0MB/s]\u001b[A\u001b[A\n",
      "\n",
      "Downloading tf_model.h5:  26%|██▋       | 294M/1.11G [00:06<00:20, 40.7MB/s]\u001b[A\u001b[A\n",
      "\n",
      "Downloading tf_model.h5:  27%|██▋       | 304M/1.11G [00:06<00:18, 44.0MB/s]\u001b[A\u001b[A\n",
      "\n",
      "Downloading tf_model.h5:  29%|██▉       | 325M/1.11G [00:06<00:14, 52.7MB/s]\u001b[A\u001b[A\n",
      "\n",
      "Downloading tf_model.h5:  31%|███       | 346M/1.11G [00:07<00:13, 56.8MB/s]\u001b[A\u001b[A\n",
      "\n",
      "Downloading tf_model.h5:  32%|███▏      | 357M/1.11G [00:07<00:14, 53.2MB/s]\u001b[A\u001b[A\n",
      "\n",
      "Downloading tf_model.h5:  34%|███▍      | 377M/1.11G [00:07<00:12, 59.1MB/s]\u001b[A\u001b[A\n",
      "\n",
      "Downloading tf_model.h5:  36%|███▌      | 398M/1.11G [00:07<00:11, 64.1MB/s]\u001b[A\u001b[A\n",
      "\n",
      "Downloading tf_model.h5:  38%|███▊      | 419M/1.11G [00:08<00:10, 65.9MB/s]\u001b[A\u001b[A\n",
      "\n",
      "Downloading tf_model.h5:  39%|███▊      | 430M/1.11G [00:08<00:11, 60.1MB/s]\u001b[A\u001b[A\n",
      "\n",
      "Downloading tf_model.h5:  41%|████      | 451M/1.11G [00:09<00:13, 50.7MB/s]\u001b[A\u001b[A\n",
      "\n",
      "Downloading tf_model.h5:  41%|████▏     | 461M/1.11G [00:09<00:11, 55.1MB/s]\u001b[A\u001b[A\n",
      "\n",
      "Downloading tf_model.h5:  42%|████▏     | 472M/1.11G [00:09<00:12, 51.7MB/s]\u001b[A\u001b[A\n",
      "\n",
      "Downloading tf_model.h5:  43%|████▎     | 482M/1.11G [00:09<00:15, 40.0MB/s]\u001b[A\u001b[A\n",
      "\n",
      "Downloading tf_model.h5:  44%|████▍     | 493M/1.11G [00:09<00:13, 47.4MB/s]\u001b[A\u001b[A\n",
      "\n",
      "Downloading tf_model.h5:  45%|████▌     | 503M/1.11G [00:10<00:13, 44.3MB/s]\u001b[A\u001b[A\n",
      "\n",
      "Downloading tf_model.h5:  47%|████▋     | 524M/1.11G [00:10<00:12, 45.7MB/s]\u001b[A\u001b[A\n",
      "\n",
      "Downloading tf_model.h5:  48%|████▊     | 535M/1.11G [00:10<00:11, 48.9MB/s]\u001b[A\u001b[A\n",
      "\n",
      "Downloading tf_model.h5:  50%|████▉     | 556M/1.11G [00:11<00:11, 47.9MB/s]\u001b[A\u001b[A\n",
      "\n",
      "Downloading tf_model.h5:  52%|█████▏    | 577M/1.11G [00:11<00:10, 50.2MB/s]\u001b[A\u001b[A\n",
      "\n",
      "Downloading tf_model.h5:  54%|█████▎    | 598M/1.11G [00:12<00:09, 53.3MB/s]\u001b[A\u001b[A\n",
      "\n",
      "Downloading tf_model.h5:  55%|█████▍    | 608M/1.11G [00:12<00:10, 45.8MB/s]\u001b[A\u001b[A\n",
      "\n",
      "Downloading tf_model.h5:  56%|█████▌    | 619M/1.11G [00:12<00:10, 48.0MB/s]\u001b[A\u001b[A\n",
      "\n",
      "Downloading tf_model.h5:  57%|█████▋    | 629M/1.11G [00:12<00:11, 43.9MB/s]\u001b[A\u001b[A\n",
      "\n",
      "Fetching 13 files:  54%|█████▍    | 7/13 [00:14<00:12,  2.14s/it], 52.5MB/s]\u001b[A\u001b[A\n",
      "\n",
      "Downloading tf_model.h5:  59%|█████▉    | 661M/1.11G [00:13<00:09, 47.5MB/s]\u001b[A\u001b[A\n",
      "\n",
      "Downloading tf_model.h5:  61%|██████▏   | 682M/1.11G [00:13<00:08, 53.4MB/s]\u001b[A\u001b[A\n",
      "\n",
      "Downloading tf_model.h5:  63%|██████▎   | 703M/1.11G [00:14<00:07, 54.7MB/s]\u001b[A\u001b[A\n",
      "\n",
      "Downloading tf_model.h5:  64%|██████▍   | 713M/1.11G [00:14<00:07, 51.4MB/s]\u001b[A\u001b[A\n",
      "\n",
      "Downloading tf_model.h5:  65%|██████▌   | 724M/1.11G [00:14<00:06, 57.6MB/s]\u001b[A\u001b[A\n",
      "\n",
      "Downloading tf_model.h5:  66%|██████▌   | 734M/1.11G [00:14<00:07, 51.7MB/s]\u001b[A\u001b[A\n",
      "\n",
      "Downloading tf_model.h5:  68%|██████▊   | 755M/1.11G [00:15<00:07, 46.3MB/s]\u001b[A\u001b[A\n",
      "\n",
      "Downloading tf_model.h5:  70%|██████▉   | 776M/1.11G [00:15<00:06, 53.1MB/s]\u001b[A\u001b[A\n",
      "\n",
      "Downloading tf_model.h5:  71%|███████   | 786M/1.11G [00:15<00:06, 47.5MB/s]\u001b[A\u001b[A\n",
      "\n",
      "Downloading tf_model.h5:  73%|███████▎  | 807M/1.11G [00:16<00:05, 51.8MB/s]\u001b[A\u001b[A\n",
      "\n",
      "Downloading tf_model.h5:  74%|███████▍  | 828M/1.11G [00:16<00:05, 56.3MB/s]\u001b[A\u001b[A\n",
      "\n",
      "Downloading tf_model.h5:  75%|███████▌  | 839M/1.11G [00:16<00:05, 48.2MB/s]\u001b[A\u001b[A\n",
      "\n",
      "Downloading tf_model.h5:  76%|███████▋  | 849M/1.11G [00:17<00:06, 42.3MB/s]\u001b[A\u001b[A\n",
      "\n",
      "Downloading tf_model.h5:  77%|███████▋  | 860M/1.11G [00:17<00:07, 35.9MB/s]\u001b[A\u001b[A\n",
      "\n",
      "Downloading tf_model.h5:  79%|███████▉  | 881M/1.11G [00:18<00:05, 41.8MB/s]\u001b[A\u001b[A\n",
      "\n",
      "Downloading tf_model.h5:  80%|████████  | 891M/1.11G [00:18<00:05, 39.5MB/s]\u001b[A\u001b[A\n",
      "\n",
      "Downloading tf_model.h5:  81%|████████  | 902M/1.11G [00:18<00:04, 46.1MB/s]\u001b[A\u001b[A\n",
      "\n",
      "Downloading tf_model.h5:  82%|████████▏ | 912M/1.11G [00:18<00:04, 42.2MB/s]\u001b[A\u001b[A\n",
      "\n",
      "Downloading tf_model.h5:  84%|████████▍ | 933M/1.11G [00:19<00:04, 43.1MB/s]\u001b[A\u001b[A\n",
      "\n",
      "Downloading tf_model.h5:  85%|████████▍ | 944M/1.11G [00:19<00:03, 48.5MB/s]\u001b[A\u001b[A\n",
      "\n",
      "Downloading tf_model.h5:  86%|████████▌ | 954M/1.11G [00:19<00:03, 52.3MB/s]\u001b[A\u001b[A\n",
      "\n",
      "Downloading tf_model.h5:  87%|████████▋ | 965M/1.11G [00:19<00:03, 45.6MB/s]\u001b[A\u001b[A\n",
      "\n",
      "Downloading tf_model.h5:  89%|████████▊ | 986M/1.11G [00:20<00:02, 52.1MB/s]\u001b[A\u001b[A\n",
      "\n",
      "Downloading tf_model.h5:  90%|████████▉ | 996M/1.11G [00:20<00:02, 45.4MB/s]\u001b[A\u001b[A\n",
      "\n",
      "Downloading tf_model.h5:  90%|█████████ | 1.01G/1.11G [00:21<00:03, 32.6MB/s]\u001b[A\u001b[A\n",
      "\n",
      "Downloading tf_model.h5:  91%|█████████▏| 1.02G/1.11G [00:21<00:03, 31.0MB/s]\u001b[A\u001b[A\n",
      "\n",
      "Downloading tf_model.h5:  93%|█████████▎| 1.04G/1.11G [00:21<00:01, 39.6MB/s]\u001b[A\u001b[A\n",
      "\n",
      "Downloading tf_model.h5:  94%|█████████▍| 1.05G/1.11G [00:21<00:01, 44.8MB/s]\u001b[A\u001b[A\n",
      "\n",
      "Downloading tf_model.h5:  95%|█████████▌| 1.06G/1.11G [00:22<00:01, 40.3MB/s]\u001b[A\u001b[A\n",
      "\n",
      "Downloading tf_model.h5:  96%|█████████▌| 1.07G/1.11G [00:22<00:01, 38.2MB/s]\u001b[A\u001b[A\n",
      "\n",
      "Downloading tf_model.h5:  98%|█████████▊| 1.09G/1.11G [00:23<00:00, 39.0MB/s]\u001b[A\u001b[A\n",
      "\n",
      "Downloading tf_model.h5:  99%|█████████▉| 1.10G/1.11G [00:23<00:00, 45.1MB/s]\u001b[A\u001b[A\n",
      "\n",
      "Downloading tf_model.h5: 100%|██████████| 1.11G/1.11G [00:23<00:00, 47.3MB/s]\u001b[A\u001b[A\n",
      "Fetching 13 files: 100%|██████████| 13/13 [00:28<00:00,  2.17s/it]\n"
     ]
    },
    {
     "data": {
      "text/plain": [
       "'sentence2emb-model/models--sentence-transformers--paraphrase-multilingual-mpnet-base-v2/snapshots/ef15aed8b328d308d7237b9bf15269f2cd19e268'"
      ]
     },
     "execution_count": 19,
     "metadata": {},
     "output_type": "execute_result"
    }
   ],
   "source": [
    "snapshot_download(repo_id=model_name, revision=commit_hash, cache_dir=local_model_path)"
   ]
  },
  {
   "cell_type": "code",
   "execution_count": 20,
   "id": "5e1873f4-1bfe-4146-8297-584e9ad76fc9",
   "metadata": {
    "tags": []
   },
   "outputs": [],
   "source": [
    "import sagemaker\n",
    "from sagemaker import image_uris\n",
    "import boto3\n",
    "import os\n",
    "import time\n",
    "import json\n",
    "\n",
    "role = sagemaker.get_execution_role()  # execution role for the endpoint\n",
    "sess = sagemaker.session.Session()  # sagemaker session for interacting with different AWS APIs\n",
    "bucket = sess.default_bucket()  # bucket to house artifacts\n",
    "\n",
    "region = sess._region_name\n",
    "account_id = sess.account_id()\n",
    "\n",
    "s3_client = boto3.client(\"s3\")\n",
    "sm_client = boto3.client(\"sagemaker\")\n",
    "smr_client = boto3.client(\"sagemaker-runtime\")"
   ]
  },
  {
   "cell_type": "code",
   "execution_count": 32,
   "id": "575edf33-2ccb-406d-9ded-44856ee8f611",
   "metadata": {
    "tags": []
   },
   "outputs": [],
   "source": [
    "local_model_path\n",
    "local_model_path = Path(\"/QA-chatbot-workshop/sentence2emb-model\")"
   ]
  },
  {
   "cell_type": "code",
   "execution_count": 34,
   "id": "68394e44-4d51-48ae-adc1-d02f520a5d4d",
   "metadata": {
    "tags": []
   },
   "outputs": [
    {
     "data": {
      "text/plain": [
       "'LLM-RAG/workshop/sentence2emb_deploy_code'"
      ]
     },
     "execution_count": 34,
     "metadata": {},
     "output_type": "execute_result"
    }
   ],
   "source": [
    "s3_model_prefix = \"LLM-RAG/workshop/sentence2emb-model\"  # folder where model checkpoint will go\n",
    "# model_snapshot_path = list(local_model_path.glob(\"**/snapshots/*\"))[1]\n",
    "s3_code_prefix = \"LLM-RAG/workshop/sentence2emb_deploy_code\"\n",
    "s3_code_prefix"
   ]
  },
  {
   "cell_type": "code",
   "execution_count": 35,
   "id": "8bc993ac-1049-4f23-b0a2-08acc9c86962",
   "metadata": {
    "tags": []
   },
   "outputs": [],
   "source": [
    "model_snapshot_path='sentence2emb-model/models--sentence-transformers--paraphrase-multilingual-mpnet-base-v2/snapshots/ef15aed8b328d308d7237b9bf15269f2cd19e268'"
   ]
  },
  {
   "cell_type": "code",
   "execution_count": 36,
   "id": "0b9e177a-886d-4838-891e-2e612a3cbc9d",
   "metadata": {
    "tags": []
   },
   "outputs": [
    {
     "name": "stdout",
     "output_type": "stream",
     "text": [
      "upload: sentence2emb-model/models--sentence-transformers--paraphrase-multilingual-mpnet-base-v2/snapshots/ef15aed8b328d308d7237b9bf15269f2cd19e268/.gitattributes to s3://sagemaker-us-east-1-946277762357/LLM-RAG/workshop/sentence2emb-model/.gitattributes\n",
      "upload: sentence2emb-model/models--sentence-transformers--paraphrase-multilingual-mpnet-base-v2/snapshots/ef15aed8b328d308d7237b9bf15269f2cd19e268/README.md to s3://sagemaker-us-east-1-946277762357/LLM-RAG/workshop/sentence2emb-model/README.md\n",
      "upload: sentence2emb-model/models--sentence-transformers--paraphrase-multilingual-mpnet-base-v2/snapshots/ef15aed8b328d308d7237b9bf15269f2cd19e268/1_Pooling/config.json to s3://sagemaker-us-east-1-946277762357/LLM-RAG/workshop/sentence2emb-model/1_Pooling/config.json\n",
      "upload: sentence2emb-model/models--sentence-transformers--paraphrase-multilingual-mpnet-base-v2/snapshots/ef15aed8b328d308d7237b9bf15269f2cd19e268/config_sentence_transformers.json to s3://sagemaker-us-east-1-946277762357/LLM-RAG/workshop/sentence2emb-model/config_sentence_transformers.json\n",
      "upload: sentence2emb-model/models--sentence-transformers--paraphrase-multilingual-mpnet-base-v2/snapshots/ef15aed8b328d308d7237b9bf15269f2cd19e268/config.json to s3://sagemaker-us-east-1-946277762357/LLM-RAG/workshop/sentence2emb-model/config.json\n",
      "upload: sentence2emb-model/models--sentence-transformers--paraphrase-multilingual-mpnet-base-v2/snapshots/ef15aed8b328d308d7237b9bf15269f2cd19e268/special_tokens_map.json to s3://sagemaker-us-east-1-946277762357/LLM-RAG/workshop/sentence2emb-model/special_tokens_map.json\n",
      "upload: sentence2emb-model/models--sentence-transformers--paraphrase-multilingual-mpnet-base-v2/snapshots/ef15aed8b328d308d7237b9bf15269f2cd19e268/sentence_bert_config.json to s3://sagemaker-us-east-1-946277762357/LLM-RAG/workshop/sentence2emb-model/sentence_bert_config.json\n",
      "upload: sentence2emb-model/models--sentence-transformers--paraphrase-multilingual-mpnet-base-v2/snapshots/ef15aed8b328d308d7237b9bf15269f2cd19e268/modules.json to s3://sagemaker-us-east-1-946277762357/LLM-RAG/workshop/sentence2emb-model/modules.json\n",
      "upload: sentence2emb-model/models--sentence-transformers--paraphrase-multilingual-mpnet-base-v2/snapshots/ef15aed8b328d308d7237b9bf15269f2cd19e268/tokenizer_config.json to s3://sagemaker-us-east-1-946277762357/LLM-RAG/workshop/sentence2emb-model/tokenizer_config.json\n",
      "upload: sentence2emb-model/models--sentence-transformers--paraphrase-multilingual-mpnet-base-v2/snapshots/ef15aed8b328d308d7237b9bf15269f2cd19e268/sentencepiece.bpe.model to s3://sagemaker-us-east-1-946277762357/LLM-RAG/workshop/sentence2emb-model/sentencepiece.bpe.model\n",
      "upload: sentence2emb-model/models--sentence-transformers--paraphrase-multilingual-mpnet-base-v2/snapshots/ef15aed8b328d308d7237b9bf15269f2cd19e268/tokenizer.json to s3://sagemaker-us-east-1-946277762357/LLM-RAG/workshop/sentence2emb-model/tokenizer.json\n",
      "upload: sentence2emb-model/models--sentence-transformers--paraphrase-multilingual-mpnet-base-v2/snapshots/ef15aed8b328d308d7237b9bf15269f2cd19e268/pytorch_model.bin to s3://sagemaker-us-east-1-946277762357/LLM-RAG/workshop/sentence2emb-model/pytorch_model.bin\n",
      "upload: sentence2emb-model/models--sentence-transformers--paraphrase-multilingual-mpnet-base-v2/snapshots/ef15aed8b328d308d7237b9bf15269f2cd19e268/tf_model.h5 to s3://sagemaker-us-east-1-946277762357/LLM-RAG/workshop/sentence2emb-model/tf_model.h5\n"
     ]
    }
   ],
   "source": [
    "!aws s3 cp --recursive {model_snapshot_path} s3://{bucket}/{s3_model_prefix}"
   ]
  },
  {
   "cell_type": "code",
   "execution_count": 39,
   "id": "f95a2044-1575-4b15-b18e-33ef7f565fb2",
   "metadata": {
    "tags": []
   },
   "outputs": [
    {
     "name": "stdout",
     "output_type": "stream",
     "text": [
      "Requirement already satisfied: sagemaker in /opt/conda/lib/python3.8/site-packages (2.132.0)\n",
      "Collecting sagemaker\n",
      "  Using cached sagemaker-2.147.0.tar.gz (718 kB)\n",
      "  Preparing metadata (setup.py) ... \u001b[?25ldone\n",
      "\u001b[?25hRequirement already satisfied: attrs<23,>=20.3.0 in /opt/conda/lib/python3.8/site-packages (from sagemaker) (22.2.0)\n",
      "Requirement already satisfied: boto3<2.0,>=1.26.28 in /opt/conda/lib/python3.8/site-packages (from sagemaker) (1.26.70)\n",
      "Requirement already satisfied: google-pasta in /opt/conda/lib/python3.8/site-packages (from sagemaker) (0.2.0)\n",
      "Requirement already satisfied: numpy<2.0,>=1.9.0 in /opt/conda/lib/python3.8/site-packages (from sagemaker) (1.23.5)\n",
      "Requirement already satisfied: protobuf<4.0,>=3.1 in /opt/conda/lib/python3.8/site-packages (from sagemaker) (3.20.2)\n",
      "Requirement already satisfied: protobuf3-to-dict<1.0,>=0.1.5 in /opt/conda/lib/python3.8/site-packages (from sagemaker) (0.1.5)\n",
      "Requirement already satisfied: smdebug_rulesconfig==1.0.1 in /opt/conda/lib/python3.8/site-packages (from sagemaker) (1.0.1)\n",
      "Requirement already satisfied: importlib-metadata<5.0,>=1.4.0 in /opt/conda/lib/python3.8/site-packages (from sagemaker) (4.13.0)\n",
      "Requirement already satisfied: packaging>=20.0 in /opt/conda/lib/python3.8/site-packages (from sagemaker) (23.0)\n",
      "Requirement already satisfied: pandas in /opt/conda/lib/python3.8/site-packages (from sagemaker) (1.5.3)\n",
      "Requirement already satisfied: pathos in /opt/conda/lib/python3.8/site-packages (from sagemaker) (0.3.0)\n",
      "Requirement already satisfied: schema in /opt/conda/lib/python3.8/site-packages (from sagemaker) (0.7.5)\n",
      "Requirement already satisfied: PyYAML==5.4.1 in /opt/conda/lib/python3.8/site-packages (from sagemaker) (5.4.1)\n",
      "Collecting jsonschema\n",
      "  Downloading jsonschema-4.17.3-py3-none-any.whl (90 kB)\n",
      "\u001b[2K     \u001b[90m━━━━━━━━━━━━━━━━━━━━━━━━━━━━━━━━━━━━━━━━\u001b[0m \u001b[32m90.4/90.4 kB\u001b[0m \u001b[31m1.9 MB/s\u001b[0m eta \u001b[36m0:00:00\u001b[0ma \u001b[36m0:00:01\u001b[0m\n",
      "\u001b[?25hCollecting platformdirs\n",
      "  Downloading platformdirs-3.2.0-py3-none-any.whl (14 kB)\n",
      "Requirement already satisfied: s3transfer<0.7.0,>=0.6.0 in /opt/conda/lib/python3.8/site-packages (from boto3<2.0,>=1.26.28->sagemaker) (0.6.0)\n",
      "Requirement already satisfied: jmespath<2.0.0,>=0.7.1 in /opt/conda/lib/python3.8/site-packages (from boto3<2.0,>=1.26.28->sagemaker) (1.0.1)\n",
      "Requirement already satisfied: botocore<1.30.0,>=1.29.70 in /opt/conda/lib/python3.8/site-packages (from boto3<2.0,>=1.26.28->sagemaker) (1.29.70)\n",
      "Requirement already satisfied: zipp>=0.5 in /opt/conda/lib/python3.8/site-packages (from importlib-metadata<5.0,>=1.4.0->sagemaker) (3.13.0)\n",
      "Requirement already satisfied: six in /opt/conda/lib/python3.8/site-packages (from protobuf3-to-dict<1.0,>=0.1.5->sagemaker) (1.16.0)\n",
      "Requirement already satisfied: importlib-resources>=1.4.0 in /opt/conda/lib/python3.8/site-packages (from jsonschema->sagemaker) (5.10.2)\n",
      "Collecting pkgutil-resolve-name>=1.3.10\n",
      "  Downloading pkgutil_resolve_name-1.3.10-py3-none-any.whl (4.7 kB)\n",
      "Collecting pyrsistent!=0.17.0,!=0.17.1,!=0.17.2,>=0.14.0\n",
      "  Downloading pyrsistent-0.19.3-py3-none-any.whl (57 kB)\n",
      "\u001b[2K     \u001b[90m━━━━━━━━━━━━━━━━━━━━━━━━━━━━━━━━━━━━━━━━\u001b[0m \u001b[32m57.5/57.5 kB\u001b[0m \u001b[31m1.7 MB/s\u001b[0m eta \u001b[36m0:00:00\u001b[0m\n",
      "\u001b[?25hRequirement already satisfied: python-dateutil>=2.8.1 in /opt/conda/lib/python3.8/site-packages (from pandas->sagemaker) (2.8.2)\n",
      "Requirement already satisfied: pytz>=2020.1 in /opt/conda/lib/python3.8/site-packages (from pandas->sagemaker) (2022.7.1)\n",
      "Requirement already satisfied: dill>=0.3.6 in /opt/conda/lib/python3.8/site-packages (from pathos->sagemaker) (0.3.6)\n",
      "Requirement already satisfied: multiprocess>=0.70.14 in /opt/conda/lib/python3.8/site-packages (from pathos->sagemaker) (0.70.14)\n",
      "Requirement already satisfied: pox>=0.3.2 in /opt/conda/lib/python3.8/site-packages (from pathos->sagemaker) (0.3.2)\n",
      "Requirement already satisfied: ppft>=1.7.6.6 in /opt/conda/lib/python3.8/site-packages (from pathos->sagemaker) (1.7.6.6)\n",
      "Requirement already satisfied: contextlib2>=0.5.5 in /opt/conda/lib/python3.8/site-packages (from schema->sagemaker) (21.6.0)\n",
      "Requirement already satisfied: urllib3<1.27,>=1.25.4 in /opt/conda/lib/python3.8/site-packages (from botocore<1.30.0,>=1.29.70->boto3<2.0,>=1.26.28->sagemaker) (1.26.14)\n",
      "Building wheels for collected packages: sagemaker\n",
      "  Building wheel for sagemaker (setup.py) ... \u001b[?25ldone\n",
      "\u001b[?25h  Created wheel for sagemaker: filename=sagemaker-2.147.0-py2.py3-none-any.whl size=965152 sha256=982a75ec8fbd707d034a55c6e53f965fcb4ba9d43c568778b62f6f3b1d4cab93\n",
      "  Stored in directory: /root/.cache/pip/wheels/6c/87/8b/f1cc496d34252d1accf573873b15d3b98d65aea92bca2f1e59\n",
      "Successfully built sagemaker\n",
      "Installing collected packages: pyrsistent, platformdirs, pkgutil-resolve-name, jsonschema, sagemaker\n",
      "  Attempting uninstall: sagemaker\n",
      "    Found existing installation: sagemaker 2.132.0\n",
      "    Uninstalling sagemaker-2.132.0:\n",
      "      Successfully uninstalled sagemaker-2.132.0\n",
      "Successfully installed jsonschema-4.17.3 pkgutil-resolve-name-1.3.10 platformdirs-3.2.0 pyrsistent-0.19.3 sagemaker-2.147.0\n",
      "\u001b[33mWARNING: Running pip as the 'root' user can result in broken permissions and conflicting behaviour with the system package manager. It is recommended to use a virtual environment instead: https://pip.pypa.io/warnings/venv\u001b[0m\u001b[33m\n",
      "\u001b[0m\n",
      "\u001b[1m[\u001b[0m\u001b[34;49mnotice\u001b[0m\u001b[1;39;49m]\u001b[0m\u001b[39;49m A new release of pip is available: \u001b[0m\u001b[31;49m23.0\u001b[0m\u001b[39;49m -> \u001b[0m\u001b[32;49m23.1\u001b[0m\n",
      "\u001b[1m[\u001b[0m\u001b[34;49mnotice\u001b[0m\u001b[1;39;49m]\u001b[0m\u001b[39;49m To update, run: \u001b[0m\u001b[32;49mpip install --upgrade pip\u001b[0m\n"
     ]
    }
   ],
   "source": [
    "!pip install -U sagemaker"
   ]
  },
  {
   "cell_type": "code",
   "execution_count": 40,
   "id": "86daea77-a7ae-46b8-8800-212d07ce5605",
   "metadata": {
    "tags": []
   },
   "outputs": [
    {
     "name": "stdout",
     "output_type": "stream",
     "text": [
      "Image going to be used is ---- > 763104351884.dkr.ecr.us-east-1.amazonaws.com/djl-inference:0.21.0-deepspeed0.8.0-cu117\n"
     ]
    }
   ],
   "source": [
    "inference_image_uri = image_uris.retrieve(\n",
    "    framework=\"djl-deepspeed\", region=region, version=\"0.21.0\"\n",
    ")\n",
    "print(f\"Image going to be used is ---- > {inference_image_uri}\")\n"
   ]
  },
  {
   "cell_type": "code",
   "execution_count": 41,
   "id": "49435172-e6c5-492a-8dcb-43e3fffb0f5c",
   "metadata": {
    "tags": []
   },
   "outputs": [],
   "source": [
    "!mkdir -p sentence2emb_deploy_code"
   ]
  },
  {
   "cell_type": "code",
   "execution_count": 42,
   "id": "70990dd3-431e-4dd0-a494-d26ceb454945",
   "metadata": {
    "tags": []
   },
   "outputs": [
    {
     "name": "stdout",
     "output_type": "stream",
     "text": [
      "Writing sentence2emb_deploy_code/model.py\n"
     ]
    }
   ],
   "source": [
    "%%writefile sentence2emb_deploy_code/model.py\n",
    "from djl_python import Input, Output\n",
    "import torch\n",
    "import logging\n",
    "import math\n",
    "import os\n",
    "from transformers import pipeline, AutoModelForCausalLM, AutoTokenizer, AutoModel\n",
    "\n",
    "def load_model(properties):\n",
    "    tensor_parallel = properties[\"tensor_parallel_degree\"]\n",
    "    model_location = properties['model_dir']\n",
    "    if \"model_id\" in properties:\n",
    "        model_location = properties['model_id']\n",
    "    logging.info(f\"Loading model in {model_location}\")\n",
    "    \n",
    "    tokenizer = AutoTokenizer.from_pretrained(model_location)\n",
    "   \n",
    "    model = AutoModel.from_pretrained(\n",
    "        model_location, \n",
    "        # device_map=\"balanced_low_0\", \n",
    "        #load_in_8bit=True\n",
    "    )\n",
    "    model.requires_grad_(False)\n",
    "    model.eval()\n",
    "    \n",
    "    return model, tokenizer\n",
    "\n",
    "\n",
    "model = None\n",
    "tokenizer = None\n",
    "generator = None\n",
    "\n",
    "def mean_pooling(model_output, attention_mask):\n",
    "    token_embeddings = model_output[0] #First element of model_output contains all token embeddings\n",
    "    input_mask_expanded = attention_mask.unsqueeze(-1).expand(token_embeddings.size()).float()\n",
    "    return torch.sum(token_embeddings * input_mask_expanded, 1) / torch.clamp(input_mask_expanded.sum(1), min=1e-9)\n",
    "\n",
    "\n",
    "def handle(inputs: Input):\n",
    "    global model, tokenizer\n",
    "    if not model:\n",
    "        model, tokenizer = load_model(inputs.get_properties())\n",
    "\n",
    "    if inputs.is_empty():\n",
    "        return None\n",
    "    data = inputs.get_as_json()\n",
    "    \n",
    "    input_sentences = data[\"inputs\"]\n",
    "    params = data[\"parameters\"]\n",
    "    logging.info(f\"inputs: {input_sentences}\")\n",
    "    logging.info(f\"parameters: {params}\")\n",
    "    \n",
    "    encoded_input = tokenizer(input_sentences, padding=True, truncation=True, return_tensors='pt')\n",
    "    # Compute token embeddings\n",
    "    with torch.no_grad():\n",
    "        model_output = model(**encoded_input)\n",
    "\n",
    "    # Perform pooling. In this case, max pooling.\n",
    "    sentence_embeddings = mean_pooling(model_output, encoded_input['attention_mask']).cpu().numpy()\n",
    "\n",
    "#     # preprocess\n",
    "#     input_ids = tokenizer(input_sentences, return_tensors=\"pt\").input_ids\n",
    "#     # pass inputs with all kwargs in data\n",
    "#     if params is not None:\n",
    "#         outputs = model.generate(input_ids, **params)\n",
    "#     else:\n",
    "#         outputs = model.generate(input_ids)\n",
    "\n",
    "#     # postprocess the prediction\n",
    "#     prediction = tokenizer.decode(outputs[0], skip_special_tokens=True)\n",
    "    \n",
    "    result = {\"sentence_embeddings\": sentence_embeddings}\n",
    "    return Output().add_as_json(result)"
   ]
  },
  {
   "cell_type": "markdown",
   "id": "a1e1ecec-79cf-4ed4-bba1-95e2fe79daea",
   "metadata": {},
   "source": [
    "需要根据自己的账户更新S3url"
   ]
  },
  {
   "cell_type": "code",
   "execution_count": 43,
   "id": "ab5ee385-5c6c-493c-bd40-9b57ae0c8e1d",
   "metadata": {
    "tags": []
   },
   "outputs": [
    {
     "name": "stdout",
     "output_type": "stream",
     "text": [
      "Writing sentence2emb_deploy_code/serving.properties\n"
     ]
    }
   ],
   "source": [
    "%%writefile sentence2emb_deploy_code/serving.properties\n",
    "engine=Python\n",
    "option.tensor_parallel_degree=1\n",
    "option.s3url = s3://sagemaker-us-east-1-946277762357/LLM-RAG/workshop/sentence2emb-model/"
   ]
  },
  {
   "cell_type": "code",
   "execution_count": 44,
   "id": "ffe41472-c2cf-4bb5-99aa-84df76c629b3",
   "metadata": {
    "tags": []
   },
   "outputs": [
    {
     "name": "stdout",
     "output_type": "stream",
     "text": [
      "rm: cannot remove 's2e_model.tar.gz': No such file or directory\n",
      "sentence2emb_deploy_code/\n",
      "sentence2emb_deploy_code/model.py\n",
      "sentence2emb_deploy_code/serving.properties\n"
     ]
    }
   ],
   "source": [
    "!rm s2e_model.tar.gz\n",
    "!tar czvf s2e_model.tar.gz sentence2emb_deploy_code"
   ]
  },
  {
   "cell_type": "code",
   "execution_count": 45,
   "id": "1fabd7ce-b855-4569-857c-ad872662800b",
   "metadata": {
    "tags": []
   },
   "outputs": [
    {
     "name": "stdout",
     "output_type": "stream",
     "text": [
      "S3 Code or Model tar ball uploaded to --- > s3://sagemaker-us-east-1-946277762357/LLM-RAG/workshop/sentence2emb_deploy_code/s2e_model.tar.gz\n"
     ]
    }
   ],
   "source": [
    "s3_code_artifact = sess.upload_data(\"s2e_model.tar.gz\", bucket, s3_code_prefix)\n",
    "print(f\"S3 Code or Model tar ball uploaded to --- > {s3_code_artifact}\")"
   ]
  },
  {
   "cell_type": "code",
   "execution_count": 46,
   "id": "e6209d24-8473-4256-93d3-02e4e144386b",
   "metadata": {
    "tags": []
   },
   "outputs": [
    {
     "name": "stdout",
     "output_type": "stream",
     "text": [
      "st-paraphrase-mpnet-base-v2-2023-04-19-04-14-31-658\n",
      "Image going to be used is ---- > 763104351884.dkr.ecr.us-east-1.amazonaws.com/djl-inference:0.21.0-deepspeed0.8.0-cu117\n",
      "Created Model: arn:aws:sagemaker:us-east-1:946277762357:model/st-paraphrase-mpnet-base-v2-2023-04-19-04-14-31-658\n"
     ]
    }
   ],
   "source": [
    "from sagemaker.utils import name_from_base\n",
    "import boto3\n",
    "\n",
    "model_name = name_from_base(f\"st-paraphrase-mpnet-base-v2\") # Append a timestamp to the provided string\n",
    "print(model_name)\n",
    "print(f\"Image going to be used is ---- > {inference_image_uri}\")\n",
    "\n",
    "create_model_response = sm_client.create_model(\n",
    "    ModelName=model_name,\n",
    "    ExecutionRoleArn=role,\n",
    "    PrimaryContainer={\n",
    "        \"Image\": inference_image_uri,\n",
    "        \"ModelDataUrl\": s3_code_artifact\n",
    "    },\n",
    "    \n",
    ")\n",
    "model_arn = create_model_response[\"ModelArn\"]\n",
    "\n",
    "print(f\"Created Model: {model_arn}\")"
   ]
  },
  {
   "cell_type": "code",
   "execution_count": 47,
   "id": "686abae8-5db7-4ebd-9fbf-5bd54f36c0ab",
   "metadata": {
    "tags": []
   },
   "outputs": [
    {
     "data": {
      "text/plain": [
       "{'EndpointConfigArn': 'arn:aws:sagemaker:us-east-1:946277762357:endpoint-config/st-paraphrase-mpnet-base-v2-2023-04-19-04-14-31-658-config',\n",
       " 'ResponseMetadata': {'RequestId': '3ec90224-74ef-4a10-9e8b-5e96fc786a1b',\n",
       "  'HTTPStatusCode': 200,\n",
       "  'HTTPHeaders': {'x-amzn-requestid': '3ec90224-74ef-4a10-9e8b-5e96fc786a1b',\n",
       "   'content-type': 'application/x-amz-json-1.1',\n",
       "   'content-length': '139',\n",
       "   'date': 'Wed, 19 Apr 2023 04:14:37 GMT'},\n",
       "  'RetryAttempts': 0}}"
      ]
     },
     "execution_count": 47,
     "metadata": {},
     "output_type": "execute_result"
    }
   ],
   "source": [
    "endpoint_config_name = f\"{model_name}-config\"\n",
    "endpoint_name = f\"{model_name}-endpoint\"\n",
    "\n",
    "endpoint_config_response = sm_client.create_endpoint_config(\n",
    "    EndpointConfigName=endpoint_config_name,\n",
    "    ProductionVariants=[\n",
    "        {\n",
    "            \"VariantName\": \"variant1\",\n",
    "            \"ModelName\": model_name,\n",
    "            \"InstanceType\": \"ml.g5.2xlarge\",\n",
    "            \"InitialInstanceCount\": 1,\n",
    "            # \"VolumeSizeInGB\" : 400,\n",
    "            # \"ModelDataDownloadTimeoutInSeconds\": 2400,\n",
    "            \"ContainerStartupHealthCheckTimeoutInSeconds\": 15*60,\n",
    "        },\n",
    "    ],\n",
    ")\n",
    "endpoint_config_response"
   ]
  },
  {
   "cell_type": "code",
   "execution_count": 48,
   "id": "f4c1df06-ae4a-42e2-9695-da0afa9ad734",
   "metadata": {
    "tags": []
   },
   "outputs": [
    {
     "name": "stdout",
     "output_type": "stream",
     "text": [
      "Created Endpoint: arn:aws:sagemaker:us-east-1:946277762357:endpoint/st-paraphrase-mpnet-base-v2-2023-04-19-04-14-31-658-endpoint\n"
     ]
    }
   ],
   "source": [
    "create_endpoint_response = sm_client.create_endpoint(\n",
    "    EndpointName=f\"{endpoint_name}\", EndpointConfigName=endpoint_config_name\n",
    ")\n",
    "print(f\"Created Endpoint: {create_endpoint_response['EndpointArn']}\")"
   ]
  },
  {
   "cell_type": "code",
   "execution_count": 49,
   "id": "d9c71240-6878-4fed-bf7d-2c1cf75f4ac5",
   "metadata": {
    "tags": []
   },
   "outputs": [
    {
     "name": "stdout",
     "output_type": "stream",
     "text": [
      "Status: Creating\n",
      "Status: Creating\n",
      "Status: Creating\n",
      "Status: Creating\n",
      "Status: Creating\n",
      "Status: Creating\n",
      "Status: InService\n",
      "Arn: arn:aws:sagemaker:us-east-1:946277762357:endpoint/st-paraphrase-mpnet-base-v2-2023-04-19-04-14-31-658-endpoint\n",
      "Status: InService\n"
     ]
    }
   ],
   "source": [
    "import time\n",
    "\n",
    "resp = sm_client.describe_endpoint(EndpointName=endpoint_name)\n",
    "status = resp[\"EndpointStatus\"]\n",
    "print(\"Status: \" + status)\n",
    "\n",
    "while status == \"Creating\":\n",
    "    time.sleep(60)\n",
    "    resp = sm_client.describe_endpoint(EndpointName=endpoint_name)\n",
    "    status = resp[\"EndpointStatus\"]\n",
    "    print(\"Status: \" + status)\n",
    "\n",
    "print(\"Arn: \" + resp[\"EndpointArn\"])\n",
    "print(\"Status: \" + status)"
   ]
  },
  {
   "cell_type": "code",
   "execution_count": 73,
   "id": "1f28db25-6996-440c-b004-14f96cfd982d",
   "metadata": {
    "tags": []
   },
   "outputs": [
    {
     "name": "stdout",
     "output_type": "stream",
     "text": [
      "CPU times: user 3.42 ms, sys: 0 ns, total: 3.42 ms\n",
      "Wall time: 3.44 ms\n"
     ]
    }
   ],
   "source": [
    "%%time\n",
    "import json\n",
    "import boto3\n",
    "\n",
    "smr_client = boto3.client(\"sagemaker-runtime\")\n",
    "\n",
    "parameters = {\n",
    "  #\"early_stopping\": True,\n",
    "  #\"length_penalty\": 2.0,\n",
    "  \"max_new_tokens\": 50,\n",
    "  \"temperature\": 0,\n",
    "  \"min_length\": 10,\n",
    "  \"no_repeat_ngram_size\": 2,\n",
    "}"
   ]
  },
  {
   "cell_type": "code",
   "execution_count": 74,
   "id": "52d4f56a-092e-4a6a-a920-48550ec9f20c",
   "metadata": {
    "tags": []
   },
   "outputs": [
    {
     "data": {
      "text/plain": [
       "'{\\n  \"sentence_embeddings\":[\\n    [\\n      -0.0942641869187355,\\n      0.13085055351257324,\\n      -0.012362794950604439,\\n      -0.02249862067401409,\\n      -0.04928736388683319,\\n      0.07633627206087112,\\n      0.11948583275079727,\\n      -0.048521898686885834,\\n      0.031562961637973785,\\n      -3.733066841959953e-05,\\n      -0.07421016693115234,\\n      -0.1545608639717102,\\n      -0.00652194581925869,\\n      0.025325052440166473,\\n      -0.04009953886270523,\\n      0.0862279087305069,\\n      0.034070875495672226,\\n      0.1100526824593544,\\n      -0.03708256781101227,\\n      -0.07843828201293945,\\n      -0.08710747212171555,\\n      -0.09370110929012299,\\n      -0.042732104659080505,\\n      -0.03769663721323013,\\n      0.061826955527067184,\\n      -0.11406314373016357,\\n      -0.0506545826792717,\\n      -0.05727188661694527,\\n      0.16234733164310455,\\n      0.10307776182889938,\\n      0.22929474711418152,\\n      0.10204465687274933,\\n      0.08882841467857361,\\n      0.1319449543952942,\\n      0.060066137462854385,\\n      -0.07494836300611496,\\n      -0.03090769797563553,\\n      0.04655187577009201,\\n      -0.17468023300170898,\\n      0.06435605883598328,\\n      -0.11814884841442108,\\n      0.11599688231945038,\\n      0.03950640931725502,\\n      -0.010311183519661427,\\n      -0.0645793229341507,\\n      -0.16605381667613983,\\n      0.06770750135183334,\\n      -0.01550314761698246,\\n      0.14078211784362793,\\n      -0.0177255067974329,\\n      -0.03221554309129715,\\n      0.030413918197155,\\n      -0.28124067187309265,\\n      -0.07166972756385803,\\n      0.046578407287597656,\\n      -0.08764131367206573,\\n      -0.09256701916456223,\\n      -0.04699074104428291,\\n      0.027374446392059326,\\n      -0.10369027405977249,\\n      0.008486236445605755,\\n      0.021932126954197884,\\n      0.019470131024718285,\\n      0.06989806890487671,\\n      0.03288710117340088,\\n      0.03889545425772667,\\n      -0.005218540783971548,\\n      0.04467306658625603,\\n      -0.06286253780126572,\\n      -0.09130655974149704,\\n      -0.027212897315621376,\\n      0.11485908180475235,\\n      -0.08820872008800507,\\n      -0.0558958500623703,\\n      -0.08313041925430298,\\n      -0.08387114107608795,\\n      -0.053688958287239075,\\n      0.058343496173620224,\\n      -0.014495003037154675,\\n      0.025473207235336304,\\n      -0.16845297813415527,\\n      -0.03066103346645832,\\n      -0.07012920081615448,\\n      -0.03592018038034439,\\n      -0.027283331379294395,\\n      0.12281058728694916,\\n      -0.12351874262094498,\\n      -0.0021761879324913025,\\n      -0.03958519175648689,\\n      0.17881633341312408,\\n      0.021607277914881706,\\n      -0.15203171968460083,\\n      0.007046039216220379,\\n      -0.007077408023178577,\\n      -0.007186392787843943,\\n      0.009422516450285912,\\n      0.032201871275901794,\\n      -0.0784660130739212,\\n      0.017659127712249756,\\n      0.10093224048614502,\\n      0.07103300839662552,\\n      -0.13490030169487,\\n      0.006297694984823465,\\n      -0.06134454905986786,\\n      -0.011544564738869667,\\n      0.008511432446539402,\\n      -0.03721853718161583,\\n      -0.04354330152273178,\\n      -0.04859583079814911,\\n      0.10019808262586594,\\n      0.1323203593492508,\\n      -0.009144832380115986,\\n      0.014894703403115273,\\n      -0.08923342823982239,\\n      -0.2172657698392868,\\n      0.04211857169866562,\\n      -0.04469284415245056,\\n      -0.032228291034698486,\\n      0.028090965002775192,\\n      0.10946834832429886,\\n      0.1941416710615158,\\n      -0.03370920196175575,\\n      -0.07287578284740448,\\n      0.058289989829063416,\\n      0.18643836677074432,\\n      -0.009934074245393276,\\n      0.0111739132553339,\\n      0.07303731143474579,\\n      0.0062114885076880455,\\n      0.15369197726249695,\\n      -0.03348063305020332,\\n      -0.11264190822839737,\\n      0.010007246397435665,\\n      0.11361424624919891,\\n      -0.06905969977378845,\\n      -0.004867151379585266,\\n      0.052786193788051605,\\n      -0.016366466879844666,\\n      0.12026609480381012,\\n      0.08014285564422607,\\n      0.08230812102556229,\\n      0.16153594851493835,\\n      -0.008228331804275513,\\n      0.06359905004501343,\\n      -0.047364115715026855,\\n      0.05170750245451927,\\n      -0.0735994353890419,\\n      0.07905648648738861,\\n      0.03125957027077675,\\n      -7.213058415800333e-05,\\n      -0.11132989078760147,\\n      -0.12918910384178162,\\n      0.003142375499010086,\\n      0.01157168298959732,\\n      -0.007489539682865143,\\n      0.11155664920806885,\\n      -0.08177537471055984,\\n      -0.07810334116220474,\\n      0.04837412387132645,\\n      0.12807174026966095,\\n      0.07683819532394409,\\n      -0.014407292939722538,\\n      -0.1380731612443924,\\n      0.1312258541584015,\\n      -0.10652534663677216,\\n      0.023172497749328613,\\n      -0.0261706355959177,\\n      -0.08904130756855011,\\n      0.04245711863040924,\\n      -0.1238623708486557,\\n      -0.07218743860721588,\\n      0.023035943508148193,\\n      -0.023809382691979408,\\n      -0.08106489479541779,\\n      0.019817080348730087,\\n      -0.041186608374118805,\\n      -0.010880852118134499,\\n      -0.12831810116767883,\\n      -0.11849786341190338,\\n      -0.08942215144634247,\\n      -0.049476392567157745,\\n      -0.124851755797863,\\n      0.11606931686401367,\\n      -0.0849456936120987,\\n      -0.04555763304233551,\\n      -0.04475466534495354,\\n      0.09472750872373581,\\n      -0.08053435385227203,\\n      0.08040136843919754,\\n      -0.0834413468837738,\\n      -0.07444680482149124,\\n      -0.01277022622525692,\\n      -0.1563097983598709,\\n      0.055149927735328674,\\n      -0.023703671991825104,\\n      -0.12968376278877258,\\n      -0.07652950286865234,\\n      -0.12040944397449493,\\n      0.1642017960548401,\\n      -0.09804517030715942,\\n      -0.04270607978105545,\\n      -0.2699194848537445,\\n      0.03474283218383789,\\n      0.22006487846374512,\\n      -0.07624009996652603,\\n      0.12160629779100418,\\n      0.13309045135974884,\\n      -0.07659576088190079,\\n      -0.1433749794960022,\\n      -0.09719599038362503,\\n      0.3358571231365204,\\n      0.009969509206712246,\\n      0.08638440817594528,\\n      0.03181648999452591,\\n      0.02419080026447773,\\n      -0.1598941832780838,\\n      0.07349822670221329,\\n      0.27619487047195435,\\n      0.08688491582870483,\\n      -0.02437089942395687,\\n      -0.09784051030874252,\\n      -0.010910634882748127,\\n      -0.11876455694437027,\\n      -0.014560486190021038,\\n      0.04228123649954796,\\n      0.10675179958343506,\\n      0.014337683096528053,\\n      0.0614355094730854,\\n      0.07231609523296356,\\n      0.013720500282943249,\\n      0.043351028114557266,\\n      -0.04731908440589905,\\n      -0.08175705373287201,\\n      0.013578079640865326,\\n      -0.05398835986852646,\\n      -0.028676019981503487,\\n      0.05121326819062233,\\n      0.10021799802780151,\\n      0.084107406437397,\\n      0.21103575825691223,\\n      0.02889951318502426,\\n      0.18575981259346008,\\n      -0.06745046377182007,\\n      0.06517001241445541,\\n      -0.05827558785676956,\\n      -0.046744756400585175,\\n      0.04332680255174637,\\n      0.04244100674986839,\\n      -0.025775261223316193,\\n      0.04619518667459488,\\n      0.2082480639219284,\\n      -0.07418442517518997,\\n      0.14209599792957306,\\n      -0.0891723781824112,\\n      -0.026810726150870323,\\n      0.229761004447937,\\n      -0.05089105665683746,\\n      -0.09862850606441498,\\n      0.23628224432468414,\\n      -0.14372339844703674,\\n      -0.09891341626644135,\\n      -0.061898380517959595,\\n      0.002716079819947481,\\n      -0.011803516186773777,\\n      -0.02655937895178795,\\n      0.05343780294060707,\\n      0.29533031582832336,\\n      -0.09835799038410187,\\n      0.10545363277196884,\\n      0.00028031039983034134,\\n      -0.07382557541131973,\\n      0.051528334617614746,\\n      -0.031103428453207016,\\n      -0.09557828307151794,\\n      0.014433437027037144,\\n      0.008724981918931007,\\n      -0.07021332532167435,\\n      0.010126408189535141,\\n      -0.06102509796619415,\\n      -0.0037797221448272467,\\n      -0.14080913364887238,\\n      -0.13092921674251556,\\n      -0.043629199266433716,\\n      -0.0054452503100037575,\\n      0.008149276487529278,\\n      -0.05808534473180771,\\n      0.17350691556930542,\\n      -0.061394598335027695,\\n      -0.1411515772342682,\\n      0.1988849639892578,\\n      0.2631680369377136,\\n      -0.0021207237150520086,\\n      0.12071342766284943,\\n      -0.044379327446222305,\\n      -0.11257941275835037,\\n      -0.05087578296661377,\\n      -0.019758477807044983,\\n      0.12580662965774536,\\n      -0.02651060000061989,\\n      0.02112571708858013,\\n      0.05388927832245827,\\n      -0.08979432284832001,\\n      -0.08703473955392838,\\n      0.05982480198144913,\\n      0.024259530007839203,\\n      0.024056199938058853,\\n      0.0627557560801506,\\n      0.0010663352441042662,\\n      0.1379651427268982,\\n      0.12205340713262558,\\n      0.007647440768778324,\\n      -0.09956485033035278,\\n      0.032151851803064346,\\n      0.0860990434885025,\\n      -0.07552609592676163,\\n      0.04556134343147278,\\n      0.20397163927555084,\\n      0.1693979799747467,\\n      -0.08826500922441483,\\n      0.29416796565055847,\\n      0.18766240775585175,\\n      -0.061916474252939224,\\n      -0.018657129257917404,\\n      -0.012312223203480244,\\n      -0.02971024066209793,\\n      -0.06413449347019196,\\n      -0.013421136885881424,\\n      0.02664218470454216,\\n      -0.16343539953231812,\\n      0.057124458253383636,\\n      0.023845156654715538,\\n      -0.12546460330486298,\\n      0.035028427839279175,\\n      -0.018081536516547203,\\n      -0.153904527425766,\\n      -0.024169238284230232,\\n      -0.007360555697232485,\\n      0.05948353186249733,\\n      -0.03440673276782036,\\n      0.08851321786642075,\\n      -0.006120884791016579,\\n      -0.11662007868289948,\\n      0.059046417474746704,\\n      -0.036562129855155945,\\n      -0.08529241383075714,\\n      0.030048996210098267,\\n      0.09646392613649368,\\n      0.038254160434007645,\\n      -0.11561895906925201,\\n      0.17889559268951416,\\n      0.002451829146593809,\\n      0.1494297981262207,\\n      -0.16792070865631104,\\n      -0.03605767339468002,\\n      -0.019515303894877434,\\n      0.08504345268011093,\\n      -0.13235938549041748,\\n      0.09853802621364594,\\n      -0.03940480947494507,\\n      0.040828969329595566,\\n      -0.17992539703845978,\\n      -0.033527176827192307,\\n      0.05414310097694397,\\n      0.17180977761745453,\\n      0.046796705573797226,\\n      0.05690206214785576,\\n      0.059951864182949066,\\n      -0.029542943462729454,\\n      -0.008483446203172207,\\n      -0.014841996133327484,\\n      -0.04530977085232735,\\n      0.09997278451919556,\\n      -0.041852157562971115,\\n      -0.048163868486881256,\\n      0.1217026337981224,\\n      -0.018151096999645233,\\n      0.022146474570035934,\\n      -0.06629505008459091,\\n      -0.031124886125326157,\\n      -0.037424247711896896,\\n      -0.11290784925222397,\\n      -0.015370585955679417,\\n      -0.023338966071605682,\\n      0.08606628328561783,\\n      0.14965255558490753,\\n      -0.012727625668048859,\\n      -0.1079324334859848,\\n      -0.00997815653681755,\\n      0.2021573930978775,\\n      -0.0719376802444458,\\n      -0.05219944193959236,\\n      -0.15254957973957062,\\n      0.06782368570566177,\\n      0.0962793305516243,\\n      0.0945233702659607,\\n      -0.1522674560546875,\\n      -0.11961990594863892,\\n      0.020954128354787827,\\n      0.04961526766419411,\\n      0.026418890804052353,\\n      -0.000795986910816282,\\n      0.06758417934179306,\\n      -0.08860519528388977,\\n      -0.011780957691371441,\\n      0.010320259258151054,\\n      0.11318971961736679,\\n      0.19330331683158875,\\n      -0.051236726343631744,\\n      -0.08452051877975464,\\n      -0.10842341929674149,\\n      -0.00034930295078083873,\\n      -0.007053956389427185,\\n      0.05031048133969307,\\n      0.028425147756934166,\\n      -0.13326947391033173,\\n      0.11902909725904465,\\n      0.043946970254182816,\\n      0.10253819823265076,\\n      0.08654170483350754,\\n      0.0413568876683712,\\n      -0.06947208940982819,\\n      0.12250698357820511,\\n      -0.09590691328048706,\\n      -0.015998851507902145,\\n      -0.0447092168033123,\\n      0.022117476910352707,\\n      0.046425312757492065,\\n      0.04038756340742111,\\n      0.09952812641859055,\\n      -0.0332496277987957,\\n      -0.13472752273082733,\\n      -0.03690618276596069,\\n      -0.0612863190472126,\\n      0.01949485018849373,\\n      0.10412315279245377,\\n      0.006386302411556244,\\n      -0.0686967670917511,\\n      -0.003885955549776554,\\n      -0.055106353014707565,\\n      -0.046458013355731964,\\n      0.008129258640110493,\\n      0.08235492557287216,\\n      0.04391627013683319,\\n      -0.17787706851959229,\\n      -0.14928901195526123,\\n      0.033030446618795395,\\n      0.12241968512535095,\\n      0.013469774276018143,\\n      -0.1420220136642456,\\n      -0.14501599967479706,\\n      0.11138642579317093,\\n      0.058480918407440186,\\n      -0.05826472118496895,\\n      0.10046253353357315,\\n      0.01291333232074976,\\n      0.06624489277601242,\\n      0.08537133038043976,\\n      0.11967217922210693,\\n      -0.02778521180152893,\\n      0.20236724615097046,\\n      -0.024655230343341827,\\n      0.22697825729846954,\\n      0.020084457471966743,\\n      0.15675053000450134,\\n      0.20843809843063354,\\n      -0.09907398372888565,\\n      0.08686447143554688,\\n      -0.08407280594110489,\\n      0.02422967180609703,\\n      0.10878325253725052,\\n      0.2208656221628189,\\n      -0.06699318438768387,\\n      -0.06864850968122482,\\n      0.26214489340782166,\\n      0.03898807242512703,\\n      0.05103253573179245,\\n      0.05166824907064438,\\n      0.053942084312438965,\\n      0.11205877363681793,\\n      0.12383151054382324,\\n      0.007238519378006458,\\n      -0.11861293017864227,\\n      -0.09256619215011597,\\n      0.07388202100992203,\\n      0.003558522555977106,\\n      0.16143715381622314,\\n      0.05675874277949333,\\n      -0.011980627663433552,\\n      -0.07041656970977783,\\n      -0.10267996788024902,\\n      -0.01632397435605526,\\n      -0.03910272195935249,\\n      -0.018352456390857697,\\n      0.2580203413963318,\\n      -0.018652595579624176,\\n      0.02994375303387642,\\n      -0.04747159406542778,\\n      -0.07296345382928848,\\n      -0.2341175228357315,\\n      -0.1803443729877472,\\n      -0.017713017761707306,\\n      -0.0964132621884346,\\n      0.1044304296374321,\\n      -0.019075646996498108,\\n      0.026043258607387543,\\n      -0.08279892057180405,\\n      0.06777903437614441,\\n      0.056404028087854385,\\n      -0.0028365645557641983,\\n      -0.0009366254089400172,\\n      0.08133672177791595,\\n      0.04124703258275986,\\n      0.054272789508104324,\\n      -0.026030059903860092,\\n      0.12180504202842712,\\n      0.07930266112089157,\\n      -0.18371042609214783,\\n      0.06719528138637543,\\n      0.09484511613845825,\\n      -0.11135788261890411,\\n      0.0915183424949646,\\n      0.11743570119142532,\\n      -0.03091229312121868,\\n      -0.005581740289926529,\\n      -0.016991347074508667,\\n      0.11224415898323059,\\n      0.10412612557411194,\\n      0.007779155857861042,\\n      0.04120209440588951,\\n      -0.013536075130105019,\\n      -0.10844738781452179,\\n      -0.0035510193556547165,\\n      -0.29820168018341064,\\n      -0.04755713790655136,\\n      -0.023616939783096313,\\n      -0.0038079367950558662,\\n      -0.16809095442295074,\\n      0.04842308908700943,\\n      -0.09631417691707611,\\n      -0.1570425182580948,\\n      0.015364385209977627,\\n      0.07842939347028732,\\n      -0.13136951625347137,\\n      -0.009070845320820808,\\n      0.08329229056835175,\\n      -0.007465770002454519,\\n      0.013129761442542076,\\n      0.09421172738075256,\\n      -0.10198340564966202,\\n      -0.09439347684383392,\\n      0.019002817571163177,\\n      -0.011798694729804993,\\n      -0.07165241986513138,\\n      0.12745626270771027,\\n      -0.014981865882873535,\\n      -0.0632036030292511,\\n      -0.004099752753973007,\\n      0.03572343662381172,\\n      -0.016300732269883156,\\n      -0.05332869291305542,\\n      0.1263258159160614,\\n      0.002581701846793294,\\n      0.01238158531486988,\\n      -0.02986619807779789,\\n      -0.01325336191803217,\\n      -0.1415148824453354,\\n      -0.09050003439188004,\\n      -0.011999151669442654,\\n      0.058727994561195374,\\n      0.13265526294708252,\\n      0.01130156684666872,\\n      0.04301675781607628,\\n      0.12095928192138672,\\n      -0.04023024067282677,\\n      0.01927483081817627,\\n      -0.08293343335390091,\\n      -0.13681252300739288,\\n      -0.024393606930971146,\\n      0.10778122395277023,\\n      0.26317083835601807,\\n      -0.12554959952831268,\\n      -0.11445755511522293,\\n      0.031030278652906418,\\n      -0.07056893408298492,\\n      0.14192000031471252,\\n      -0.16902485489845276,\\n      -0.017391124740242958,\\n      0.029629869386553764,\\n      -0.001457491423934698,\\n      0.06990818679332733,\\n      0.016302000731229782,\\n      0.017410483211278915,\\n      0.14108674228191376,\\n      0.039474669843912125,\\n      -0.0052010719664394855,\\n      -0.027252331376075745,\\n      0.08041362464427948,\\n      -0.08934074640274048,\\n      0.14118656516075134,\\n      0.06816434860229492,\\n      0.12685371935367584,\\n      -0.1477975845336914,\\n      -0.023694371804594994,\\n      -0.07348213344812393,\\n      0.05482891947031021,\\n      0.07742124050855637,\\n      0.12109872698783875,\\n      -0.08165900409221649,\\n      -0.03700067102909088,\\n      0.0736159011721611,\\n      -0.08431148529052734,\\n      -0.010346734896302223,\\n      -0.03899591788649559,\\n      0.03714324161410332,\\n      0.05100543424487114,\\n      -0.022288016974925995,\\n      0.3162209391593933,\\n      0.11744066327810287,\\n      0.0026139323599636555,\\n      -0.1519843488931656,\\n      -0.13489598035812378,\\n      -0.1321224719285965,\\n      -0.12126407772302628,\\n      -0.06893061101436615,\\n      0.13396546244621277,\\n      -0.010298432782292366,\\n      -0.055041003972291946,\\n      -0.10793349146842957,\\n      -0.15866276621818542,\\n      -0.18278570473194122,\\n      0.10991444438695908,\\n      0.15424510836601257,\\n      -0.003689063712954521,\\n      -0.017592094838619232,\\n      -0.0577901229262352,\\n      0.26258233189582825,\\n      0.02176191471517086,\\n      0.006722824182361364,\\n      0.17508839070796967,\\n      0.03313039243221283,\\n      -0.14199160039424896,\\n      -0.09295801818370819,\\n      -0.03507214039564133,\\n      -0.03387129679322243,\\n      0.13323965668678284,\\n      0.04923686012625694,\\n      -0.03158023580908775,\\n      0.18491946160793304,\\n      -0.026835927739739418,\\n      0.08308298885822296,\\n      -0.027373317629098892,\\n      0.14343684911727905,\\n      0.03762468323111534,\\n      0.02173880860209465,\\n      0.018569763749837875,\\n      0.020909152925014496,\\n      -0.048680029809474945,\\n      0.09736093878746033,\\n      -0.050025202333927155,\\n      0.118927501142025,\\n      -0.03186282142996788,\\n      -0.0733388364315033,\\n      0.07444576919078827,\\n      -0.014776929281651974,\\n      0.04787054285407066,\\n      0.09373778849840164,\\n      -0.04383566230535507,\\n      -0.025914087891578674,\\n      -0.12617048621177673,\\n      -0.03114168345928192,\\n      -0.0017933063209056854,\\n      -0.06811495125293732,\\n      0.06180166080594063,\\n      0.058473847806453705,\\n      -0.02170567214488983,\\n      -0.0702219307422638,\\n      -0.11423349380493164,\\n      -0.12228769063949585,\\n      -0.09016799926757812,\\n      0.013278928585350513,\\n      -0.01681196503341198,\\n      0.054921068251132965,\\n      0.004175754729658365,\\n      -0.07293365895748138,\\n      0.1273871213197708,\\n      0.0015811456833034754,\\n      0.05283689498901367,\\n      -0.028805630281567574,\\n      -0.019200308248400688,\\n      -0.16640205681324005,\\n      0.014243224635720253,\\n      -0.06488537043333054,\\n      0.08661683648824692,\\n      -0.0681571513414383,\\n      -0.10269228368997574,\\n      -0.10701604932546616,\\n      -0.10129280388355255,\\n      -0.01135476864874363,\\n      0.08928655833005905,\\n      -0.1604127287864685,\\n      -0.10844024270772934,\\n      -0.046136338263750076,\\n      0.05605407804250717,\\n      0.006141014862805605,\\n      0.0410594642162323,\\n      -0.06096907705068588,\\n      -0.005816208198666573,\\n      -0.04050213843584061,\\n      -0.049069199711084366,\\n      0.12243117392063141,\\n      0.033134590834379196,\\n      -0.023480184376239777,\\n      -0.03502880781888962,\\n      -0.006672683637589216,\\n      -0.02444690838456154,\\n      -0.018716271966695786,\\n      0.008417386561632156,\\n      -0.04970978945493698,\\n      0.08286024630069733,\\n      0.12274038791656494,\\n      0.1374780833721161,\\n      -0.010364944115281105,\\n      -0.14391368627548218,\\n      0.03352591395378113,\\n      0.09841207414865494,\\n      0.004560784436762333,\\n      0.19936373829841614,\\n      0.014545425772666931,\\n      -0.060764070600271225,\\n      -0.005400420632213354,\\n      -0.09447884559631348,\\n      -0.0017023503314703703,\\n      0.15664854645729065,\\n      0.10218227654695511,\\n      -0.0885288268327713,\\n      0.017449185252189636,\\n      -0.1712331473827362,\\n      -0.08462684601545334,\\n      -0.01764034479856491,\\n      0.04639017581939697,\\n      0.01569708250463009,\\n      0.058342210948467255,\\n      0.024738090112805367,\\n      -0.03045382723212242,\\n      -0.07078039646148682,\\n      0.02965928241610527,\\n      0.12651337683200836,\\n      0.000648199871648103,\\n      -0.08177655935287476,\\n      -0.0016586899291723967,\\n      -0.0408528596162796,\\n      0.046424608677625656,\\n      -0.007681237533688545,\\n      -0.1252640336751938,\\n      -0.005235330201685429,\\n      -0.17526426911354065,\\n      0.08087760210037231,\\n      0.010736940428614616,\\n      0.04344325140118599,\\n      -0.10786769539117813,\\n      0.10639622062444687,\\n      0.026636870577931404,\\n      -0.03601468354463577,\\n      0.07070524245500565,\\n      0.007920445874333382,\\n      -0.06238720566034317,\\n      -0.10340813547372818,\\n      0.013013327494263649\\n    ]\\n  ]\\n}'"
      ]
     },
     "execution_count": 74,
     "metadata": {},
     "output_type": "execute_result"
    }
   ],
   "source": [
    "prompts1 = \"\"\"\n",
    "请问AWS Clean Rooms是多方都会收费吗？\n",
    "\"\"\"\n",
    "\n",
    "response_model = smr_client.invoke_endpoint(\n",
    "            EndpointName=endpoint_name,\n",
    "            Body=json.dumps(\n",
    "            {\n",
    "                \"inputs\": [prompts1],\n",
    "                \"parameters\": parameters\n",
    "            }\n",
    "            ),\n",
    "            ContentType=\"application/json\",\n",
    "        )\n",
    "\n",
    "response_model['Body'].read().decode('utf8')"
   ]
  },
  {
   "cell_type": "code",
   "execution_count": 63,
   "id": "aa0d6623-236d-4a5d-8360-4b07f8d8d40c",
   "metadata": {
    "tags": []
   },
   "outputs": [],
   "source": [
    "!aws sagemaker delete-endpoint --endpoint-name st-paraphrase-mpnet-base-v2-2023-04-14-03-16-08-679-endpoint"
   ]
  },
  {
   "cell_type": "code",
   "execution_count": 64,
   "id": "36281bf3-b6f5-450f-b1b8-9f1285b1dad0",
   "metadata": {
    "tags": []
   },
   "outputs": [],
   "source": [
    "!aws sagemaker delete-endpoint-config --endpoint-config-name st-paraphrase-mpnet-base-v2-2023-04-14-03-16-08-679-config"
   ]
  }
 ],
 "metadata": {
  "availableInstances": [
   {
    "_defaultOrder": 0,
    "_isFastLaunch": true,
    "category": "General purpose",
    "gpuNum": 0,
    "hideHardwareSpecs": false,
    "memoryGiB": 4,
    "name": "ml.t3.medium",
    "vcpuNum": 2
   },
   {
    "_defaultOrder": 1,
    "_isFastLaunch": false,
    "category": "General purpose",
    "gpuNum": 0,
    "hideHardwareSpecs": false,
    "memoryGiB": 8,
    "name": "ml.t3.large",
    "vcpuNum": 2
   },
   {
    "_defaultOrder": 2,
    "_isFastLaunch": false,
    "category": "General purpose",
    "gpuNum": 0,
    "hideHardwareSpecs": false,
    "memoryGiB": 16,
    "name": "ml.t3.xlarge",
    "vcpuNum": 4
   },
   {
    "_defaultOrder": 3,
    "_isFastLaunch": false,
    "category": "General purpose",
    "gpuNum": 0,
    "hideHardwareSpecs": false,
    "memoryGiB": 32,
    "name": "ml.t3.2xlarge",
    "vcpuNum": 8
   },
   {
    "_defaultOrder": 4,
    "_isFastLaunch": true,
    "category": "General purpose",
    "gpuNum": 0,
    "hideHardwareSpecs": false,
    "memoryGiB": 8,
    "name": "ml.m5.large",
    "vcpuNum": 2
   },
   {
    "_defaultOrder": 5,
    "_isFastLaunch": false,
    "category": "General purpose",
    "gpuNum": 0,
    "hideHardwareSpecs": false,
    "memoryGiB": 16,
    "name": "ml.m5.xlarge",
    "vcpuNum": 4
   },
   {
    "_defaultOrder": 6,
    "_isFastLaunch": false,
    "category": "General purpose",
    "gpuNum": 0,
    "hideHardwareSpecs": false,
    "memoryGiB": 32,
    "name": "ml.m5.2xlarge",
    "vcpuNum": 8
   },
   {
    "_defaultOrder": 7,
    "_isFastLaunch": false,
    "category": "General purpose",
    "gpuNum": 0,
    "hideHardwareSpecs": false,
    "memoryGiB": 64,
    "name": "ml.m5.4xlarge",
    "vcpuNum": 16
   },
   {
    "_defaultOrder": 8,
    "_isFastLaunch": false,
    "category": "General purpose",
    "gpuNum": 0,
    "hideHardwareSpecs": false,
    "memoryGiB": 128,
    "name": "ml.m5.8xlarge",
    "vcpuNum": 32
   },
   {
    "_defaultOrder": 9,
    "_isFastLaunch": false,
    "category": "General purpose",
    "gpuNum": 0,
    "hideHardwareSpecs": false,
    "memoryGiB": 192,
    "name": "ml.m5.12xlarge",
    "vcpuNum": 48
   },
   {
    "_defaultOrder": 10,
    "_isFastLaunch": false,
    "category": "General purpose",
    "gpuNum": 0,
    "hideHardwareSpecs": false,
    "memoryGiB": 256,
    "name": "ml.m5.16xlarge",
    "vcpuNum": 64
   },
   {
    "_defaultOrder": 11,
    "_isFastLaunch": false,
    "category": "General purpose",
    "gpuNum": 0,
    "hideHardwareSpecs": false,
    "memoryGiB": 384,
    "name": "ml.m5.24xlarge",
    "vcpuNum": 96
   },
   {
    "_defaultOrder": 12,
    "_isFastLaunch": false,
    "category": "General purpose",
    "gpuNum": 0,
    "hideHardwareSpecs": false,
    "memoryGiB": 8,
    "name": "ml.m5d.large",
    "vcpuNum": 2
   },
   {
    "_defaultOrder": 13,
    "_isFastLaunch": false,
    "category": "General purpose",
    "gpuNum": 0,
    "hideHardwareSpecs": false,
    "memoryGiB": 16,
    "name": "ml.m5d.xlarge",
    "vcpuNum": 4
   },
   {
    "_defaultOrder": 14,
    "_isFastLaunch": false,
    "category": "General purpose",
    "gpuNum": 0,
    "hideHardwareSpecs": false,
    "memoryGiB": 32,
    "name": "ml.m5d.2xlarge",
    "vcpuNum": 8
   },
   {
    "_defaultOrder": 15,
    "_isFastLaunch": false,
    "category": "General purpose",
    "gpuNum": 0,
    "hideHardwareSpecs": false,
    "memoryGiB": 64,
    "name": "ml.m5d.4xlarge",
    "vcpuNum": 16
   },
   {
    "_defaultOrder": 16,
    "_isFastLaunch": false,
    "category": "General purpose",
    "gpuNum": 0,
    "hideHardwareSpecs": false,
    "memoryGiB": 128,
    "name": "ml.m5d.8xlarge",
    "vcpuNum": 32
   },
   {
    "_defaultOrder": 17,
    "_isFastLaunch": false,
    "category": "General purpose",
    "gpuNum": 0,
    "hideHardwareSpecs": false,
    "memoryGiB": 192,
    "name": "ml.m5d.12xlarge",
    "vcpuNum": 48
   },
   {
    "_defaultOrder": 18,
    "_isFastLaunch": false,
    "category": "General purpose",
    "gpuNum": 0,
    "hideHardwareSpecs": false,
    "memoryGiB": 256,
    "name": "ml.m5d.16xlarge",
    "vcpuNum": 64
   },
   {
    "_defaultOrder": 19,
    "_isFastLaunch": false,
    "category": "General purpose",
    "gpuNum": 0,
    "hideHardwareSpecs": false,
    "memoryGiB": 384,
    "name": "ml.m5d.24xlarge",
    "vcpuNum": 96
   },
   {
    "_defaultOrder": 20,
    "_isFastLaunch": false,
    "category": "General purpose",
    "gpuNum": 0,
    "hideHardwareSpecs": true,
    "memoryGiB": 0,
    "name": "ml.geospatial.interactive",
    "supportedImageNames": [
     "sagemaker-geospatial-v1-0"
    ],
    "vcpuNum": 0
   },
   {
    "_defaultOrder": 21,
    "_isFastLaunch": true,
    "category": "Compute optimized",
    "gpuNum": 0,
    "hideHardwareSpecs": false,
    "memoryGiB": 4,
    "name": "ml.c5.large",
    "vcpuNum": 2
   },
   {
    "_defaultOrder": 22,
    "_isFastLaunch": false,
    "category": "Compute optimized",
    "gpuNum": 0,
    "hideHardwareSpecs": false,
    "memoryGiB": 8,
    "name": "ml.c5.xlarge",
    "vcpuNum": 4
   },
   {
    "_defaultOrder": 23,
    "_isFastLaunch": false,
    "category": "Compute optimized",
    "gpuNum": 0,
    "hideHardwareSpecs": false,
    "memoryGiB": 16,
    "name": "ml.c5.2xlarge",
    "vcpuNum": 8
   },
   {
    "_defaultOrder": 24,
    "_isFastLaunch": false,
    "category": "Compute optimized",
    "gpuNum": 0,
    "hideHardwareSpecs": false,
    "memoryGiB": 32,
    "name": "ml.c5.4xlarge",
    "vcpuNum": 16
   },
   {
    "_defaultOrder": 25,
    "_isFastLaunch": false,
    "category": "Compute optimized",
    "gpuNum": 0,
    "hideHardwareSpecs": false,
    "memoryGiB": 72,
    "name": "ml.c5.9xlarge",
    "vcpuNum": 36
   },
   {
    "_defaultOrder": 26,
    "_isFastLaunch": false,
    "category": "Compute optimized",
    "gpuNum": 0,
    "hideHardwareSpecs": false,
    "memoryGiB": 96,
    "name": "ml.c5.12xlarge",
    "vcpuNum": 48
   },
   {
    "_defaultOrder": 27,
    "_isFastLaunch": false,
    "category": "Compute optimized",
    "gpuNum": 0,
    "hideHardwareSpecs": false,
    "memoryGiB": 144,
    "name": "ml.c5.18xlarge",
    "vcpuNum": 72
   },
   {
    "_defaultOrder": 28,
    "_isFastLaunch": false,
    "category": "Compute optimized",
    "gpuNum": 0,
    "hideHardwareSpecs": false,
    "memoryGiB": 192,
    "name": "ml.c5.24xlarge",
    "vcpuNum": 96
   },
   {
    "_defaultOrder": 29,
    "_isFastLaunch": true,
    "category": "Accelerated computing",
    "gpuNum": 1,
    "hideHardwareSpecs": false,
    "memoryGiB": 16,
    "name": "ml.g4dn.xlarge",
    "vcpuNum": 4
   },
   {
    "_defaultOrder": 30,
    "_isFastLaunch": false,
    "category": "Accelerated computing",
    "gpuNum": 1,
    "hideHardwareSpecs": false,
    "memoryGiB": 32,
    "name": "ml.g4dn.2xlarge",
    "vcpuNum": 8
   },
   {
    "_defaultOrder": 31,
    "_isFastLaunch": false,
    "category": "Accelerated computing",
    "gpuNum": 1,
    "hideHardwareSpecs": false,
    "memoryGiB": 64,
    "name": "ml.g4dn.4xlarge",
    "vcpuNum": 16
   },
   {
    "_defaultOrder": 32,
    "_isFastLaunch": false,
    "category": "Accelerated computing",
    "gpuNum": 1,
    "hideHardwareSpecs": false,
    "memoryGiB": 128,
    "name": "ml.g4dn.8xlarge",
    "vcpuNum": 32
   },
   {
    "_defaultOrder": 33,
    "_isFastLaunch": false,
    "category": "Accelerated computing",
    "gpuNum": 4,
    "hideHardwareSpecs": false,
    "memoryGiB": 192,
    "name": "ml.g4dn.12xlarge",
    "vcpuNum": 48
   },
   {
    "_defaultOrder": 34,
    "_isFastLaunch": false,
    "category": "Accelerated computing",
    "gpuNum": 1,
    "hideHardwareSpecs": false,
    "memoryGiB": 256,
    "name": "ml.g4dn.16xlarge",
    "vcpuNum": 64
   },
   {
    "_defaultOrder": 35,
    "_isFastLaunch": false,
    "category": "Accelerated computing",
    "gpuNum": 1,
    "hideHardwareSpecs": false,
    "memoryGiB": 61,
    "name": "ml.p3.2xlarge",
    "vcpuNum": 8
   },
   {
    "_defaultOrder": 36,
    "_isFastLaunch": false,
    "category": "Accelerated computing",
    "gpuNum": 4,
    "hideHardwareSpecs": false,
    "memoryGiB": 244,
    "name": "ml.p3.8xlarge",
    "vcpuNum": 32
   },
   {
    "_defaultOrder": 37,
    "_isFastLaunch": false,
    "category": "Accelerated computing",
    "gpuNum": 8,
    "hideHardwareSpecs": false,
    "memoryGiB": 488,
    "name": "ml.p3.16xlarge",
    "vcpuNum": 64
   },
   {
    "_defaultOrder": 38,
    "_isFastLaunch": false,
    "category": "Accelerated computing",
    "gpuNum": 8,
    "hideHardwareSpecs": false,
    "memoryGiB": 768,
    "name": "ml.p3dn.24xlarge",
    "vcpuNum": 96
   },
   {
    "_defaultOrder": 39,
    "_isFastLaunch": false,
    "category": "Memory Optimized",
    "gpuNum": 0,
    "hideHardwareSpecs": false,
    "memoryGiB": 16,
    "name": "ml.r5.large",
    "vcpuNum": 2
   },
   {
    "_defaultOrder": 40,
    "_isFastLaunch": false,
    "category": "Memory Optimized",
    "gpuNum": 0,
    "hideHardwareSpecs": false,
    "memoryGiB": 32,
    "name": "ml.r5.xlarge",
    "vcpuNum": 4
   },
   {
    "_defaultOrder": 41,
    "_isFastLaunch": false,
    "category": "Memory Optimized",
    "gpuNum": 0,
    "hideHardwareSpecs": false,
    "memoryGiB": 64,
    "name": "ml.r5.2xlarge",
    "vcpuNum": 8
   },
   {
    "_defaultOrder": 42,
    "_isFastLaunch": false,
    "category": "Memory Optimized",
    "gpuNum": 0,
    "hideHardwareSpecs": false,
    "memoryGiB": 128,
    "name": "ml.r5.4xlarge",
    "vcpuNum": 16
   },
   {
    "_defaultOrder": 43,
    "_isFastLaunch": false,
    "category": "Memory Optimized",
    "gpuNum": 0,
    "hideHardwareSpecs": false,
    "memoryGiB": 256,
    "name": "ml.r5.8xlarge",
    "vcpuNum": 32
   },
   {
    "_defaultOrder": 44,
    "_isFastLaunch": false,
    "category": "Memory Optimized",
    "gpuNum": 0,
    "hideHardwareSpecs": false,
    "memoryGiB": 384,
    "name": "ml.r5.12xlarge",
    "vcpuNum": 48
   },
   {
    "_defaultOrder": 45,
    "_isFastLaunch": false,
    "category": "Memory Optimized",
    "gpuNum": 0,
    "hideHardwareSpecs": false,
    "memoryGiB": 512,
    "name": "ml.r5.16xlarge",
    "vcpuNum": 64
   },
   {
    "_defaultOrder": 46,
    "_isFastLaunch": false,
    "category": "Memory Optimized",
    "gpuNum": 0,
    "hideHardwareSpecs": false,
    "memoryGiB": 768,
    "name": "ml.r5.24xlarge",
    "vcpuNum": 96
   },
   {
    "_defaultOrder": 47,
    "_isFastLaunch": false,
    "category": "Accelerated computing",
    "gpuNum": 1,
    "hideHardwareSpecs": false,
    "memoryGiB": 16,
    "name": "ml.g5.xlarge",
    "vcpuNum": 4
   },
   {
    "_defaultOrder": 48,
    "_isFastLaunch": false,
    "category": "Accelerated computing",
    "gpuNum": 1,
    "hideHardwareSpecs": false,
    "memoryGiB": 32,
    "name": "ml.g5.2xlarge",
    "vcpuNum": 8
   },
   {
    "_defaultOrder": 49,
    "_isFastLaunch": false,
    "category": "Accelerated computing",
    "gpuNum": 1,
    "hideHardwareSpecs": false,
    "memoryGiB": 64,
    "name": "ml.g5.4xlarge",
    "vcpuNum": 16
   },
   {
    "_defaultOrder": 50,
    "_isFastLaunch": false,
    "category": "Accelerated computing",
    "gpuNum": 1,
    "hideHardwareSpecs": false,
    "memoryGiB": 128,
    "name": "ml.g5.8xlarge",
    "vcpuNum": 32
   },
   {
    "_defaultOrder": 51,
    "_isFastLaunch": false,
    "category": "Accelerated computing",
    "gpuNum": 1,
    "hideHardwareSpecs": false,
    "memoryGiB": 256,
    "name": "ml.g5.16xlarge",
    "vcpuNum": 64
   },
   {
    "_defaultOrder": 52,
    "_isFastLaunch": false,
    "category": "Accelerated computing",
    "gpuNum": 4,
    "hideHardwareSpecs": false,
    "memoryGiB": 192,
    "name": "ml.g5.12xlarge",
    "vcpuNum": 48
   },
   {
    "_defaultOrder": 53,
    "_isFastLaunch": false,
    "category": "Accelerated computing",
    "gpuNum": 4,
    "hideHardwareSpecs": false,
    "memoryGiB": 384,
    "name": "ml.g5.24xlarge",
    "vcpuNum": 96
   },
   {
    "_defaultOrder": 54,
    "_isFastLaunch": false,
    "category": "Accelerated computing",
    "gpuNum": 8,
    "hideHardwareSpecs": false,
    "memoryGiB": 768,
    "name": "ml.g5.48xlarge",
    "vcpuNum": 192
   }
  ],
  "instance_type": "ml.m5.large",
  "kernelspec": {
   "display_name": "Python 3 (PyTorch 1.12 Python 3.8 GPU Optimized)",
   "language": "python",
   "name": "python3__SAGEMAKER_INTERNAL__arn:aws:sagemaker:us-east-1:081325390199:image/pytorch-1.12-gpu-py38"
  },
  "language_info": {
   "codemirror_mode": {
    "name": "ipython",
    "version": 3
   },
   "file_extension": ".py",
   "mimetype": "text/x-python",
   "name": "python",
   "nbconvert_exporter": "python",
   "pygments_lexer": "ipython3",
   "version": "3.8.16"
  }
 },
 "nbformat": 4,
 "nbformat_minor": 5
}
