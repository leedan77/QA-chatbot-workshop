{
 "cells": [
  {
   "cell_type": "code",
   "execution_count": 46,
   "id": "ed0697d9-1199-4f04-9c7f-a3fd56551227",
   "metadata": {},
   "outputs": [
    {
     "name": "stdout",
     "output_type": "stream",
     "text": [
      "-----!"
     ]
    }
   ],
   "source": [
    "#Sagemaker Endpoint Deploy\n",
    "from sagemaker.huggingface import HuggingFaceModel\n",
    "import sagemaker\n",
    "\n",
    "role = sagemaker.get_execution_role()\n",
    "# Hub Model configuration. https://huggingface.co/models\n",
    "hub = {\n",
    "\t'HF_MODEL_ID':'shibing624/text2vec-base-chinese',\n",
    "\t'HF_TASK':'feature-extraction'\n",
    "}\n",
    "\n",
    "# create Hugging Face Model Class\n",
    "huggingface_model = HuggingFaceModel(\n",
    "\ttransformers_version='4.17.0',\n",
    "\tpytorch_version='1.10.2',\n",
    "\tpy_version='py38',\n",
    "\tenv=hub,\n",
    "\trole=role, \n",
    ")\n",
    "\n",
    "# deploy model to SageMaker Inference\n",
    "predictor = huggingface_model.deploy(\n",
    "\tendpoint_name='huggingface-inference-text2vec-base-chinese-v1',\n",
    "\tinitial_instance_count=1, # number of instances\n",
    "\tinstance_type='ml.m5.xlarge' # ec2 instance type\n",
    ")"
   ]
  },
  {
   "cell_type": "code",
   "execution_count": 2,
   "id": "3454cf6e-a6ff-4937-9d79-11f38ed388d5",
   "metadata": {},
   "outputs": [
    {
     "name": "stdout",
     "output_type": "stream",
     "text": [
      "2672 out of 2673 finished"
     ]
    }
   ],
   "source": [
    "#Preprocess Data\n",
    "import pandas as pd\n",
    "import sagemaker\n",
    "from sagemaker.huggingface import HuggingFaceModel\n",
    "import json\n",
    "import boto3\n",
    "import requests\n",
    "import json\n",
    "\n",
    "hfp = sagemaker.huggingface.model.HuggingFacePredictor('huggingface-inference-text2vec-base-chinese-v1')\n",
    "\n",
    "def get_vector(q):\n",
    "    return hfp.predict({'inputs':[q]})[0][0][0]\n",
    "\n",
    "path = 'material.csv'\n",
    "df = pd.read_excel(path)\n",
    "df['question_vector'] = ''\n",
    "data = df['question'].tolist()\n",
    "for i in range(len(df)):\n",
    "    df.iloc[i, 2] = str(get_vector(df.iloc[i, 0]))\n",
    "    print('\\r%i out of %i finished'%(i, len(df)), end='')"
   ]
  },
  {
   "cell_type": "code",
   "execution_count": 41,
   "id": "f1f5f828-773c-43be-ae60-90a52f2418e2",
   "metadata": {
    "collapsed": true,
    "jupyter": {
     "outputs_hidden": true
    },
    "tags": []
   },
   "outputs": [
    {
     "name": "stdout",
     "output_type": "stream",
     "text": [
      "0\n",
      "100\n",
      "200\n",
      "300\n",
      "400\n",
      "500\n",
      "600\n",
      "700\n",
      "800\n",
      "900\n",
      "1000\n",
      "1100\n",
      "1200\n",
      "1300\n",
      "1400\n",
      "1500\n",
      "1600\n",
      "1700\n",
      "1800\n",
      "1900\n",
      "2000\n",
      "2100\n",
      "2200\n",
      "2300\n",
      "2400\n",
      "2500\n",
      "2600\n"
     ]
    }
   ],
   "source": [
    "#import data to OpenSearch\n",
    "import boto3\n",
    "import requests\n",
    "import json\n",
    "\n",
    "\n",
    "host = '' # cluster endpoint, for example: my-test-domain.us-east-1.es.amazonaws.com/\n",
    "region = 'us-east-1' # e.g. us-west-1\n",
    "index_name = \"sewc_faq\"\n",
    "username = \"\"\n",
    "password = \"\"\n",
    "\n",
    "service = 'es'\n",
    "credentials = boto3.Session().get_credentials()\n",
    "\n",
    "\n",
    "awsauth = (username, password)\n",
    "\n",
    "\n",
    "url = host+'_bulk'\n",
    "\n",
    "headers = { \"Content-Type\": \"application/json\" }\n",
    "\n",
    "def import_data(df, id_start=0):\n",
    "    payloads = ''\n",
    "    for i in range(id_start, len(df)+id_start):\n",
    "        first = json.dumps({ \"index\": { \"_index\": index_name, \"_id\": str(i) } }, ensure_ascii=False) + \"\\n\"\n",
    "        second = json.dumps({\"question\": str(df.iloc[i-id_start, 0]), \n",
    "                     \"answer\": str(df.iloc[i-id_start, 1]), \n",
    "                     \"question_vector\": json.loads(df.iloc[i-id_start, 2])},\n",
    "                   ensure_ascii=False) + \"\\n\"\n",
    "        payloads += first + second\n",
    "    # print(payloads)\n",
    "    r = requests.post(url, auth=awsauth, headers=headers, data=payloads.encode()) # requests.get, post, and delete have similar syntax\n",
    "    # print(r.text)\n",
    "\n",
    "slice = 100\n",
    "for i in range(len(df)//slice+1):\n",
    "    import_data(df[slice*i:slice*(i+1)], slice*i)\n",
    "    print(slice*i)"
   ]
  },
  {
   "cell_type": "code",
   "execution_count": 53,
   "id": "57a71222-5bdb-43ff-9a48-07e2f68e0b0a",
   "metadata": {},
   "outputs": [
    {
     "name": "stdout",
     "output_type": "stream",
     "text": [
      "Table created successfully!\n"
     ]
    }
   ],
   "source": [
    "#Create Dynamo DB\n",
    "client = boto3.client('dynamodb', region_name='us-east-1')\n",
    "\n",
    "try:\n",
    "    resp = client.create_table(\n",
    "        TableName=\"FeedbackRecordsSEWCFAQ\",\n",
    "        # Declare your Primary Key in the KeySchema argument\n",
    "        KeySchema=[\n",
    "            {\n",
    "                \"AttributeName\": \"SearchInputs\",\n",
    "                \"KeyType\": \"HASH\"\n",
    "            },\n",
    "            {\n",
    "                \"AttributeName\": \"_id\",\n",
    "                \"KeyType\": \"RANGE\"\n",
    "            }\n",
    "        ],\n",
    "        # Any attributes used in KeySchema or Indexes must be declared in AttributeDefinitions\n",
    "        AttributeDefinitions=[\n",
    "            {\n",
    "                \"AttributeName\": \"SearchInputs\",\n",
    "                \"AttributeType\": \"S\"\n",
    "            },\n",
    "            {\n",
    "                \"AttributeName\": \"_id\",\n",
    "                \"AttributeType\": \"S\"\n",
    "            }\n",
    "        ],\n",
    "        # ProvisionedThroughput controls the amount of data you can read or write to DynamoDB per second.\n",
    "        # You can control read and write capacity independently.\n",
    "        ProvisionedThroughput={\n",
    "            \"ReadCapacityUnits\": 50,\n",
    "            \"WriteCapacityUnits\": 50\n",
    "        }\n",
    "    )\n",
    "    print(\"Table created successfully!\")\n",
    "except Exception as e:\n",
    "    print(\"Error creating table:\")\n",
    "    print(e)"
   ]
  }
 ],
 "metadata": {
  "kernelspec": {
   "display_name": "conda_pytorch_p39",
   "language": "python",
   "name": "conda_pytorch_p39"
  },
  "language_info": {
   "codemirror_mode": {
    "name": "ipython",
    "version": 3
   },
   "file_extension": ".py",
   "mimetype": "text/x-python",
   "name": "python",
   "nbconvert_exporter": "python",
   "pygments_lexer": "ipython3",
   "version": "3.9.13"
  }
 },
 "nbformat": 4,
 "nbformat_minor": 5
}
