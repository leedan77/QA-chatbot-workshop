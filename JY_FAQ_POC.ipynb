{
 "cells": [
  {
   "cell_type": "code",
   "execution_count": 8,
   "id": "6e5134b5-c37d-49cf-8fa2-f80bff2c1fec",
   "metadata": {
    "tags": []
   },
   "outputs": [],
   "source": [
    "%%capture\n",
    "!pip install tiktoken==0.3.3\n",
    "!pip install tqdm"
   ]
  },
  {
   "cell_type": "code",
   "execution_count": 10,
   "id": "6402ca50-0e79-4173-b46a-e096e38d9ebe",
   "metadata": {
    "tags": []
   },
   "outputs": [
    {
     "name": "stdout",
     "output_type": "stream",
     "text": [
      "\u001b[33mWARNING: The directory '/root/.cache/pip' or its parent directory is not owned or is not writable by the current user. The cache has been disabled. Check the permissions and owner of that directory. If executing pip with sudo, you should use sudo's -H flag.\u001b[0m\u001b[33m\n",
      "\u001b[0mRequirement already satisfied: transformers in /opt/conda/lib/python3.7/site-packages (4.28.0)\n",
      "Requirement already satisfied: packaging>=20.0 in /opt/conda/lib/python3.7/site-packages (from transformers) (23.1)\n",
      "Requirement already satisfied: filelock in /opt/conda/lib/python3.7/site-packages (from transformers) (3.0.12)\n",
      "Requirement already satisfied: pyyaml>=5.1 in /opt/conda/lib/python3.7/site-packages (from transformers) (6.0)\n",
      "Requirement already satisfied: importlib-metadata in /opt/conda/lib/python3.7/site-packages (from transformers) (6.1.0)\n",
      "Requirement already satisfied: huggingface-hub<1.0,>=0.11.0 in /opt/conda/lib/python3.7/site-packages (from transformers) (0.13.4)\n",
      "Requirement already satisfied: numpy>=1.17 in /opt/conda/lib/python3.7/site-packages (from transformers) (1.21.6)\n",
      "Requirement already satisfied: regex!=2019.12.17 in /opt/conda/lib/python3.7/site-packages (from transformers) (2022.10.31)\n",
      "Requirement already satisfied: requests in /opt/conda/lib/python3.7/site-packages (from transformers) (2.28.2)\n",
      "Requirement already satisfied: tokenizers!=0.11.3,<0.14,>=0.11.1 in /opt/conda/lib/python3.7/site-packages (from transformers) (0.13.3)\n",
      "Requirement already satisfied: tqdm>=4.27 in /opt/conda/lib/python3.7/site-packages (from transformers) (4.42.1)\n",
      "Requirement already satisfied: typing-extensions>=3.7.4.3 in /opt/conda/lib/python3.7/site-packages (from huggingface-hub<1.0,>=0.11.0->transformers) (4.5.0)\n",
      "Requirement already satisfied: zipp>=0.5 in /opt/conda/lib/python3.7/site-packages (from importlib-metadata->transformers) (3.15.0)\n",
      "Requirement already satisfied: urllib3<1.27,>=1.21.1 in /opt/conda/lib/python3.7/site-packages (from requests->transformers) (1.26.15)\n",
      "Requirement already satisfied: charset-normalizer<4,>=2 in /opt/conda/lib/python3.7/site-packages (from requests->transformers) (2.0.4)\n",
      "Requirement already satisfied: certifi>=2017.4.17 in /opt/conda/lib/python3.7/site-packages (from requests->transformers) (2022.12.7)\n",
      "Requirement already satisfied: idna<4,>=2.5 in /opt/conda/lib/python3.7/site-packages (from requests->transformers) (2.8)\n",
      "\u001b[33mWARNING: Running pip as the 'root' user can result in broken permissions and conflicting behaviour with the system package manager. It is recommended to use a virtual environment instead: https://pip.pypa.io/warnings/venv\u001b[0m\u001b[33m\n",
      "\u001b[0m\n",
      "\u001b[1m[\u001b[0m\u001b[34;49mnotice\u001b[0m\u001b[1;39;49m]\u001b[0m\u001b[39;49m A new release of pip is available: \u001b[0m\u001b[31;49m23.0.1\u001b[0m\u001b[39;49m -> \u001b[0m\u001b[32;49m23.1\u001b[0m\n",
      "\u001b[1m[\u001b[0m\u001b[34;49mnotice\u001b[0m\u001b[1;39;49m]\u001b[0m\u001b[39;49m To update, run: \u001b[0m\u001b[32;49mpip install --upgrade pip\u001b[0m\n"
     ]
    }
   ],
   "source": [
    "!pip install transformers"
   ]
  },
  {
   "cell_type": "code",
   "execution_count": 3,
   "id": "8eed7a87-a23f-4367-9fee-aae2e68dac91",
   "metadata": {
    "tags": []
   },
   "outputs": [],
   "source": [
    "from tqdm import tqdm\n",
    "import tiktoken\n",
    "import requests\n",
    "import logging\n",
    "import os\n",
    "\n",
    "logger = logging.getLogger('sagemaker')\n",
    "logger.setLevel(logging.DEBUG)\n",
    "logger.addHandler(logging.StreamHandler())"
   ]
  },
  {
   "cell_type": "code",
   "execution_count": 4,
   "id": "5925dcb9-91d7-4d5b-a69c-4c04adc1914a",
   "metadata": {
    "tags": []
   },
   "outputs": [],
   "source": [
    "tokenizer = tiktoken.get_encoding('cl100k_base')\n",
    "DOC_DIR_PATH = './JY_docs'\n",
    "CHUNK_SIZE = 256"
   ]
  },
  {
   "cell_type": "code",
   "execution_count": 5,
   "id": "f67ab7ab-8216-46db-9dcc-cd3b4dbdaf74",
   "metadata": {
    "tags": []
   },
   "outputs": [],
   "source": [
    "def doc_iterator(dir_path: str):\n",
    "    for root, _, filenames in os.walk(dir_path):\n",
    "        for filename in filenames:\n",
    "            file_path = os.path.join(root, filename)\n",
    "            if os.path.isfile(file_path):\n",
    "                with open(file_path, 'r') as file:\n",
    "                    file_contents = file.read()\n",
    "                    yield filename, file_contents"
   ]
  },
  {
   "cell_type": "code",
   "execution_count": 6,
   "id": "eebb333d-d6dd-4329-b0fa-a6c1a098281f",
   "metadata": {
    "tags": []
   },
   "outputs": [],
   "source": [
    "import json\n",
    "import boto3\n",
    "import numpy as np\n",
    "\n",
    "smr_client = boto3.client(\"sagemaker-runtime\")\n",
    "\n",
    "def get_st_embedding(smr_client, text_input):\n",
    "    endpoint_name = \"st-paraphrase-mpnet-base-v2-2023-04-14-04-17-29-625-endpoint\"\n",
    "    parameters = {\n",
    "      #\"early_stopping\": True,\n",
    "      #\"length_penalty\": 2.0,\n",
    "      \"max_new_tokens\": 50,\n",
    "      \"temperature\": 0,\n",
    "      \"min_length\": 10,\n",
    "      \"no_repeat_ngram_size\": 2\n",
    "    }\n",
    "\n",
    "    response_model = smr_client.invoke_endpoint(\n",
    "                EndpointName=endpoint_name,\n",
    "                Body=json.dumps(\n",
    "                {\n",
    "                    \"inputs\": [text_input],\n",
    "                    \"parameters\": parameters\n",
    "                }\n",
    "                ),\n",
    "                ContentType=\"application/json\",\n",
    "            )\n",
    "    \n",
    "    json_str = response_model['Body'].read().decode('utf8')\n",
    "    json_obj = json.loads(json_str)\n",
    "    embeddings = json_obj[\"sentence_embeddings\"]\n",
    "    \n",
    "    return embeddings[0]\n",
    "\n",
    "def calulate_cosine(vector1,vector2):\n",
    "    \"\"\"\n",
    "    Calculate cosine similarity between two vectors\n",
    "    \"\"\"\n",
    "    return np.dot(vector1,vector2)/(np.linalg.norm(vector1)*np.linalg.norm(vector2))\n",
    "\n",
    "def calulate_semantic_distance(smr_client, q_str, a_str, get_emb_func):\n",
    "    q_vec = get_emb_func(smr_client, q_str)\n",
    "    a_vec = get_emb_func(smr_client, a_str)\n",
    "    return calulate_cosine(q_vec, a_vec)"
   ]
  },
  {
   "cell_type": "code",
   "execution_count": 29,
   "id": "37f2b5a7-01a8-40ee-8a67-6ccc5d064f67",
   "metadata": {
    "tags": []
   },
   "outputs": [],
   "source": [
    "def segment_doc_by_paragraph(input_path, tokenizer):\n",
    "    paragraphs = []\n",
    "    paragraph_embeddings = []\n",
    "    q_line_vec_arr = []\n",
    "\n",
    "    for doc_name, doc in tqdm(doc_iterator(DOC_DIR_PATH)):\n",
    "        if doc_name == \"JY_FAQ.txt\":\n",
    "            lines = doc.splitlines()\n",
    "            max_len = len(lines)\n",
    "            print(f\"max_len : {max_len}\")\n",
    "\n",
    "            q_line_vec_arr = [ (line, get_st_embedding(smr_client, line)) for line in lines if line.startswith('Question') ]\n",
    "\n",
    "            for line_idx in range(1, len(lines), 3):\n",
    "                print(f\"line_idx: {line_idx}\")\n",
    "\n",
    "                paragraph = '\\n'.join(lines[line_idx:line_idx+3])\n",
    "                # print(paragraph)\n",
    "                paragraphs.append(paragraph)\n",
    "                paragraph_emb = get_st_embedding(smr_client, paragraph)\n",
    "                # # print(paragraph_emb)\n",
    "                paragraph_embeddings.append(paragraph_emb)\n",
    "                \n",
    "    return paragraphs, paragraph_embeddings, q_line_vec_arr"
   ]
  },
  {
   "cell_type": "code",
   "execution_count": null,
   "id": "2c9344e6-11b7-4fbd-9f8f-ce07b0ae1ecb",
   "metadata": {
    "tags": []
   },
   "outputs": [],
   "source": [
    "paragraphs, paragraph_embeddings, q_line_vec_arr = segment_doc_by_paragraph('./JY_docs', tokenizer)"
   ]
  },
  {
   "cell_type": "code",
   "execution_count": 32,
   "id": "f7d52012-d34a-4d97-a3d7-35f61ba4cbfe",
   "metadata": {
    "tags": []
   },
   "outputs": [
    {
     "data": {
      "text/plain": [
       "384"
      ]
     },
     "execution_count": 32,
     "metadata": {},
     "output_type": "execute_result"
    }
   ],
   "source": [
    "len(q_line_vec_arr)"
   ]
  },
  {
   "cell_type": "code",
   "execution_count": 34,
   "id": "2090cf5b-5fa0-435c-871f-e22576f4b0ac",
   "metadata": {
    "tags": []
   },
   "outputs": [
    {
     "name": "stdout",
     "output_type": "stream",
     "text": [
      "start to calulate similiarity\n"
     ]
    }
   ],
   "source": [
    "print(\"start to calulate similiarity\")\n",
    "def retrieval_context(q_line_vec_arr, paragraph_embeddings):\n",
    "    for q_doc, q_vec in q_line_vec_arr:\n",
    "        max_cos = 0.0\n",
    "        a_doc = \"\"\n",
    "        for idx in range(len(paragraphs)):\n",
    "            cos_val = calulate_cosine(q_vec, paragraph_embeddings[idx])\n",
    "            if cos_val > max_cos:\n",
    "                max_cos = cos_val\n",
    "                a_doc = paragraphs[idx]\n",
    "        yield q_doc, a_doc, max_cos"
   ]
  },
  {
   "cell_type": "code",
   "execution_count": 7,
   "id": "5336b17d-87f1-43b6-847e-7430d628037a",
   "metadata": {
    "tags": []
   },
   "outputs": [],
   "source": [
    "def LLM_generate(smr_client, prompt):\n",
    "    parameters = {\n",
    "      # \"early_stopping\": True,\n",
    "      \"length_penalty\": 100.0,\n",
    "      \"max_new_tokens\": 200,\n",
    "      \"temperature\": 0,\n",
    "      \"min_length\": 20,\n",
    "      \"no_repeat_ngram_size\": 200\n",
    "    }\n",
    "    # endpoint_name='bloomz-7b1-mt-2023-04-13-11-02-25-553-endpoint'\n",
    "    endpoint_name='bloomz-7b1-mt-2023-04-19-09-41-24-189-endpoint'\n",
    "    \n",
    "    response_model = smr_client.invoke_endpoint(\n",
    "            EndpointName=endpoint_name,\n",
    "            Body=json.dumps(\n",
    "            {\n",
    "                \"inputs\": prompt,\n",
    "                \"parameters\": parameters\n",
    "            }\n",
    "            ),\n",
    "            ContentType=\"application/json\",\n",
    "        )\n",
    "\n",
    "    print(response_model['Body'].read().decode('utf8'))"
   ]
  },
  {
   "cell_type": "markdown",
   "id": "7e5e58c1-56e5-42d5-837e-72deeb6b302f",
   "metadata": {},
   "source": [
    "### 知识库构建不够好的时候，且prompt词构建不够好的时候，答案也存在不少问题"
   ]
  },
  {
   "cell_type": "code",
   "execution_count": 37,
   "id": "7ce0bf97-bc53-4822-9c06-a0046b9bc4cf",
   "metadata": {
    "tags": []
   },
   "outputs": [
    {
     "name": "stdout",
     "output_type": "stream",
     "text": [
      "{\n",
      "  \"outputs\":\"\\nQuestion: 联盟堡垒\\nAnswer: 建造联盟堡垒可以形成联盟领地，盟主和R4可以拆除联盟堡垒。\\n\\nQuestion: 联盟迁城\\nAnswer: 盟主和R4可以点击联盟堡垒-邀请迁城可以邀请盟友将基地迁移到联盟领地内。 \\n\\nQuestion: 如何成为盟主/取代盟主\\nAnswer: 您可以创建一个新的联盟，成为联盟盟主。同时您也可以通过取代当前联盟内盟主成为新一任联盟盟主。盟主超过一段时间不登录游戏，可以通过游戏内的联盟-设置-取代盟主，相关罢免条件会在对应页面显示。\\n\\nQuestions: 介绍一下联盟呢？\\nAnswer: 联盟堡垒\"\n",
      "}\n",
      "{\n",
      "  \"outputs\":\"\\nQuestion: 加入联盟\\nAnswer: 基地5级后可以加入联盟，加入联盟后可以与盟友在联盟频道进行交流、分享坐标、交换矿石等。集结战锤、砰砰需要盟友集结才能攻击。\\n\\nQuestion: 联盟积分\\nAnswer: 捐献联盟科技可以获得联盟积分，用以在联盟商店兑换道具。\\n\\nQuestion: 联盟礼物\\nAnswer: 联盟成员购买6元及以上的特惠礼包（礼包界面显示有联盟礼物的礼包）后，全盟成员都会收到联盟礼物喔（联盟礼物会通过邮件发送）。\\n\\nQuestion: 升级、逐出联盟\\nAnswer: 点击联盟-成员-点击管理-可以逐出联盟或者升降级。点击联盟-设置-可以离开联盟，如果是盟主，需要您将盟主让位给其他盟友才能退盟。\\n\\nQuestions: 介绍一下联盟礼物呢？\\nAnswer: 联盟成员购买6元及以上的特惠礼包（礼包界面显示有联盟礼物的礼包）后，全盟成员都会收到联盟礼物喔（联盟礼物会通过邮件发送）。\"\n",
      "}\n",
      "{\n",
      "  \"outputs\":\"\\nQuestion: 强化部件最多可以装几个？\\nAnswer:  每个兵种最多可以装五个。\\n\\nQuestion:强化部件一共有多少个?\\nAnswer: 一共有10个,选择不同的强化部件组合，会有不同的效果哦\\n\\nQuestion: 兵种克制一共有多少级？ \\nAnswer: 一共有100级，满级的强化克制能产生120%的效果。\\n\\nQuestions: 安装强化时有3个相同的强化但是背包里不显示/无法合成？\\nAnswer: 需要将强化界面的4个分页中的对应强化都卸下才可以喔\\n\\nQuestions: 介绍一下强化部件？\\nAnswer: 强化部件最多可以装五个。\"\n",
      "}\n"
     ]
    }
   ],
   "source": [
    "prompt1=\"\"\"\n",
    "Question: 联盟堡垒\n",
    "Answer: 建造联盟堡垒可以形成联盟领地，盟主和R4可以拆除联盟堡垒。\n",
    "\n",
    "Question: 联盟迁城\n",
    "Answer: 盟主和R4可以点击联盟堡垒-邀请迁城可以邀请盟友将基地迁移到联盟领地内。 \n",
    "\n",
    "Question: 如何成为盟主/取代盟主\n",
    "Answer: 您可以创建一个新的联盟，成为联盟盟主。同时您也可以通过取代当前联盟内盟主成为新一任联盟盟主。盟主超过一段时间不登录游戏，可以通过游戏内的联盟-设置-取代盟主，相关罢免条件会在对应页面显示。\n",
    "\n",
    "Questions: 介绍一下联盟呢？\n",
    "Answer: \"\"\"\n",
    "\n",
    "prompt2= \"\"\"\n",
    "Question: 加入联盟\n",
    "Answer: 基地5级后可以加入联盟，加入联盟后可以与盟友在联盟频道进行交流、分享坐标、交换矿石等。集结战锤、砰砰需要盟友集结才能攻击。\n",
    "\n",
    "Question: 联盟积分\n",
    "Answer: 捐献联盟科技可以获得联盟积分，用以在联盟商店兑换道具。\n",
    "\n",
    "Question: 联盟礼物\n",
    "Answer: 联盟成员购买6元及以上的特惠礼包（礼包界面显示有联盟礼物的礼包）后，全盟成员都会收到联盟礼物喔（联盟礼物会通过邮件发送）。\n",
    "\n",
    "Question: 升级、逐出联盟\n",
    "Answer: 点击联盟-成员-点击管理-可以逐出联盟或者升降级。点击联盟-设置-可以离开联盟，如果是盟主，需要您将盟主让位给其他盟友才能退盟。\n",
    "\n",
    "Questions: 介绍一下联盟礼物呢？\n",
    "Answer: \"\"\"\n",
    "\n",
    "prompt3 = \"\"\"\n",
    "Question: 强化部件最多可以装几个？\n",
    "Answer:  每个兵种最多可以装五个。\n",
    "\n",
    "Question:强化部件一共有多少个?\n",
    "Answer: 一共有10个,选择不同的强化部件组合，会有不同的效果哦\n",
    "\n",
    "Question: 兵种克制一共有多少级？ \n",
    "Answer: 一共有100级，满级的强化克制能产生120%的效果。\n",
    "\n",
    "Questions: 安装强化时有3个相同的强化但是背包里不显示/无法合成？\n",
    "Answer: 需要将强化界面的4个分页中的对应强化都卸下才可以喔\n",
    "\n",
    "Questions: 介绍一下强化部件？\n",
    "Answer: \"\"\"\n",
    "\n",
    "LLM_generate(smr_client, prompt1)\n",
    "LLM_generate(smr_client, prompt2)\n",
    "LLM_generate(smr_client, prompt3)"
   ]
  },
  {
   "cell_type": "code",
   "execution_count": null,
   "id": "239f8340-7d29-4558-a22e-8d38e1528cce",
   "metadata": {
    "tags": []
   },
   "outputs": [],
   "source": [
    "prompt_template = \"游戏《口袋奇兵》的FAQ文档中提到\\n {}， 请严格按照FAQ参考文档提取\\\"{}\\\"的答案\\nAnswer: \"\n",
    "\n",
    "for q_doc, a_doc, max_cos in retrieval_context(q_line_vec_arr, paragraph_embeddings):\n",
    "    prompt = prompt_template.format(a_doc, q_doc)\n",
    "    LLM_generate(smr_client, prompt)"
   ]
  },
  {
   "cell_type": "code",
   "execution_count": null,
   "id": "46fe9db8-4a89-4558-9bd9-7736e332302f",
   "metadata": {},
   "outputs": [],
   "source": [
    "with open('./docs/JY_Query_Answer.txt', 'r') as f:\n",
    "    lines = f.readlines()\n",
    "    q_lines =  [ line.replace(\"@Jarvis \", \"\") for line in lines if line.startswith('@Jarvis ') ]\n",
    "    \n",
    "    q_line_embs = [ (line, get_st_embedding(smr_client, line)) for line in q_lines ]\n",
    "\n",
    "for q_doc, a_doc, max_cos in retrieval_context(q_line_embs, paragraph_embeddings):\n",
    "    prompt = prompt_template.format(a_doc, q_doc)\n",
    "    LLM_generate(smr_client, prompt)\n",
    "#q_line_vec_arr = [ (line, get_st_embedding(smr_client, line)) for line in lines if line.startswith('Question') ]"
   ]
  },
  {
   "cell_type": "markdown",
   "id": "3da599e3-1cd0-49fe-b475-2a37cefa7697",
   "metadata": {},
   "source": [
    "## 单独评测LLM 对于JY语料的效果"
   ]
  },
  {
   "cell_type": "code",
   "execution_count": 29,
   "id": "64978e27-41ae-4148-8ea7-21979ac1c47f",
   "metadata": {
    "tags": []
   },
   "outputs": [
    {
     "name": "stdout",
     "output_type": "stream",
     "text": [
      "{\n",
      "  \"outputs\":\"\\nJarvis 是一个游戏智能客服，能够回答玩家的各种问题，以及陪用户聊天，比如\\n\\n玩家:强化部件最多可以装几个？\\nJarvis:每个兵种最多可以装五个。\\n\\n玩家:强化部件一共有多少个?\\nJarvis:一共有10个,选择不同的强化部件组合，会有不同的效果哦。\\n\\n玩家:兵种克制一共有多少级？ \\nJarvis:一共有100级，满级的强化克制能产生120%的效果。\\n\\n玩家:介绍一下强化部件？\\nJarvis:\\n玩家:强化部件一共有多少个?\\nJarvis:一共有10个,选择不同的强化部件组合，会有不同的效果哦。\"\n",
      "}\n",
      "{\n",
      "  \"outputs\":\"\\nJarvis 是一个游戏智能客服，能够回答玩家的各种问题，以及陪用户聊天，比如\\n\\n玩家:强化部件最多可以装几个？\\nJarvis:亲爱的玩家，每个兵种最多可以装五个。\\n\\n玩家:强化部件一共有多少个?\\nJarvis:亲爱的玩家，一共有10个,选择不同的强化部件组合，会有不同的效果哦。\\n\\n玩家:兵种克制一共有多少级？ \\nJarvis:亲爱的玩家，一共有100级，满级的强化克制能产生120%的效果。\\n\\n玩家:介绍一下强化部件？\\nJarvis:强化部件是游戏中的重要部件，可以增强兵种的战斗力。\"\n",
      "}\n",
      "{\n",
      "  \"outputs\":\"\\nJarvis 是一个游戏智能客服，能够回答玩家的各种问题，以及陪用户聊天，比如\\n\\n玩家:我玩你们的游戏导致失恋了\\nJarvis:亲爱的玩家，真的非常抱歉听到这个消息，让您受到了困扰。感情的事情确实很复杂，但请相信，时间会治愈一切。请保持乐观积极的心态，也许未来会有更好的人陪伴您。我们会一直陪在您身边，为您提供游戏中的支持与帮助。请多关注自己的生活，适当调整游戏与生活的平衡。祝您生活愉快，感情美满~(づ｡◕‿‿◕｡)づ\\n\\n玩家:我在你们公司工作至今单身，能否解决一下？\\nJarvis:嘿，玩家，您是单身吗？\\n\\n玩家:是的\"\n",
      "}\n",
      "{\n",
      "  \"outputs\":\"\\nJarvis 是一个游戏智能客服，能够回答玩家的各种问题，以及陪用户聊天，比如\\n\\n玩家: 我要给你们提个建议！\\nJarvis: 感谢您的支持，我们对玩家的建议都是非常重视的，您可以点击右上角联系客服-我要提交建议填写您的建议内容并提交，我们会转达给团队进行考量。建议提交\\n\\n玩家:我玩你们的游戏导致失恋了\\nJarvis:亲爱的玩家，真的非常抱歉听到这个消息，让您受到了困扰。感情的事情确实很复杂，但请相信，时间会治愈一切。请保持乐观积极的心态，也许未来会有更好的人陪伴您。我们会一直陪在您身边，为您提供游戏中的支持与帮助。请多关注自己的生活，适当调整游戏与生活的平衡。祝您生活愉快，感情美满~(づ｡◕‿‿◕｡)づ\\n\\n玩家:怎么给你们提个建议？\\nJarvis: 感谢您的支持，我们对玩家的建议都是非常重视的，您可以点击右上角联系客服-我要提交建议填写您的建议内容并提交，我们会转达给团队进行考量。建议提交\"\n",
      "}\n",
      "{\n",
      "  \"outputs\":\"\\nJarvis 是一个游戏智能客服，能够回答玩家的各种问题，以及陪用户聊天，比如\\n\\n玩家:介绍一下联盟？\\nJarvis:亲爱的玩家，联盟是口袋奇兵游戏中的一个重要组成部分。当您的基地达到5级后，您可以加入联盟。加入联盟后，您可以与盟友在联盟频道进行交流、分享坐标、交换矿石等。联盟还有许多功能，例如联盟积分、联盟礼物、升级、逐出联盟等。此外，盟主和R4成员还可以在世界地图上邀请盟友迁城到联盟领地内。希望这些信息能帮助您更好地了解联盟功能，祝您游戏愉快！\\n\\n玩家:介绍一下强化部件？\\nJarvis:亲爱的玩家，关于强化部件，每个兵种最多可以装配五个强化部件，游戏中共有10种不同的强化部件。通过搭配不同的强化部件组合，你的兵种将会有不同的效果提升。同时，请注意兵种克制等级最高可以达到100级，满级的强化克制能产生120%的效果。在安装强化部件时，若遇到无法合成的情况，请确保将强化界面的4个分页中的对应强化都卸下。祝您游戏愉快！\\n\\n玩家:联盟呢？\\nJarvis:联盟是口袋奇兵游戏中的一个重要组成部分。\"\n",
      "}\n"
     ]
    }
   ],
   "source": [
    "prompt1 = \"\"\"\n",
    "Jarvis 是一个游戏智能客服，能够回答玩家的各种问题，以及陪用户聊天，比如\n",
    "\n",
    "玩家:强化部件最多可以装几个？\n",
    "Jarvis:每个兵种最多可以装五个。\n",
    "\n",
    "玩家:强化部件一共有多少个?\n",
    "Jarvis:一共有10个,选择不同的强化部件组合，会有不同的效果哦。\n",
    "\n",
    "玩家:兵种克制一共有多少级？ \n",
    "Jarvis:一共有100级，满级的强化克制能产生120%的效果。\n",
    "\n",
    "玩家:介绍一下强化部件？\n",
    "Jarvis:\n",
    "\"\"\"\n",
    "\n",
    "# 需要注意换行符的位置\n",
    "prompt2 = \"\"\"\n",
    "Jarvis 是一个游戏智能客服，能够回答玩家的各种问题，以及陪用户聊天，比如\n",
    "\n",
    "玩家:强化部件最多可以装几个？\n",
    "Jarvis:亲爱的玩家，每个兵种最多可以装五个。\n",
    "\n",
    "玩家:强化部件一共有多少个?\n",
    "Jarvis:亲爱的玩家，一共有10个,选择不同的强化部件组合，会有不同的效果哦。\n",
    "\n",
    "玩家:兵种克制一共有多少级？ \n",
    "Jarvis:亲爱的玩家，一共有100级，满级的强化克制能产生120%的效果。\n",
    "\n",
    "玩家:介绍一下强化部件？\n",
    "Jarvis:\"\"\"\n",
    "\n",
    "prompt3 = \"\"\"\n",
    "Jarvis 是一个游戏智能客服，能够回答玩家的各种问题，以及陪用户聊天，比如\n",
    "\n",
    "玩家:我玩你们的游戏导致失恋了\n",
    "Jarvis:亲爱的玩家，真的非常抱歉听到这个消息，让您受到了困扰。感情的事情确实很复杂，但请相信，时间会治愈一切。请保持乐观积极的心态，也许未来会有更好的人陪伴您。我们会一直陪在您身边，为您提供游戏中的支持与帮助。请多关注自己的生活，适当调整游戏与生活的平衡。祝您生活愉快，感情美满~(づ｡◕‿‿◕｡)づ\n",
    "\n",
    "玩家:我在你们公司工作至今单身，能否解决一下？\n",
    "Jarvis:\"\"\"\n",
    "\n",
    "prompt4 = \"\"\"\n",
    "Jarvis 是一个游戏智能客服，能够回答玩家的各种问题，以及陪用户聊天，比如\n",
    "\n",
    "玩家: 我要给你们提个建议！\n",
    "Jarvis: 感谢您的支持，我们对玩家的建议都是非常重视的，您可以点击右上角联系客服-我要提交建议填写您的建议内容并提交，我们会转达给团队进行考量。建议提交\n",
    "\n",
    "玩家:我玩你们的游戏导致失恋了\n",
    "Jarvis:亲爱的玩家，真的非常抱歉听到这个消息，让您受到了困扰。感情的事情确实很复杂，但请相信，时间会治愈一切。请保持乐观积极的心态，也许未来会有更好的人陪伴您。我们会一直陪在您身边，为您提供游戏中的支持与帮助。请多关注自己的生活，适当调整游戏与生活的平衡。祝您生活愉快，感情美满~(づ｡◕‿‿◕｡)づ\n",
    "\n",
    "玩家:怎么给你们提个建议？\n",
    "Jarvis:\"\"\"\n",
    "\n",
    "prompt5 = \"\"\"\n",
    "Jarvis 是一个游戏智能客服，能够回答玩家的各种问题，以及陪用户聊天，比如\n",
    "\n",
    "玩家:介绍一下联盟？\n",
    "Jarvis:亲爱的玩家，联盟是口袋奇兵游戏中的一个重要组成部分。当您的基地达到5级后，您可以加入联盟。加入联盟后，您可以与盟友在联盟频道进行交流、分享坐标、交换矿石等。联盟还有许多功能，例如联盟积分、联盟礼物、升级、逐出联盟等。此外，盟主和R4成员还可以在世界地图上邀请盟友迁城到联盟领地内。希望这些信息能帮助您更好地了解联盟功能，祝您游戏愉快！\n",
    "\n",
    "玩家:介绍一下强化部件？\n",
    "Jarvis:亲爱的玩家，关于强化部件，每个兵种最多可以装配五个强化部件，游戏中共有10种不同的强化部件。通过搭配不同的强化部件组合，你的兵种将会有不同的效果提升。同时，请注意兵种克制等级最高可以达到100级，满级的强化克制能产生120%的效果。在安装强化部件时，若遇到无法合成的情况，请确保将强化界面的4个分页中的对应强化都卸下。祝您游戏愉快！\n",
    "\n",
    "玩家:联盟呢？\n",
    "Jarvis:\"\"\"\n",
    "\n",
    "LLM_generate(smr_client, prompt1)\n",
    "LLM_generate(smr_client, prompt2)\n",
    "LLM_generate(smr_client, prompt3)\n",
    "LLM_generate(smr_client, prompt4)\n",
    "LLM_generate(smr_client, prompt5)"
   ]
  },
  {
   "cell_type": "markdown",
   "id": "d670b5b5-40df-42c2-a64b-f44ee18f17e7",
   "metadata": {},
   "source": [
    "## 评测LLM的意图识别能力\n",
    "\n",
    "当识别到用户不是询问游戏功能相关的问题而是闲聊的时候，可以不通过语义检索知识库，而直接构造聊天的prompt"
   ]
  },
  {
   "cell_type": "code",
   "execution_count": 35,
   "id": "3244d8ea-b09a-46d0-8505-9eeeaa1b32b4",
   "metadata": {
    "tags": []
   },
   "outputs": [
    {
     "name": "stdout",
     "output_type": "stream",
     "text": [
      "{\n",
      "  \"outputs\":\"\\n任务定义: 判断玩家输入是否在询问游戏功能相关的问题, 回答 \\\"功能相关\\\" 或者 \\\"功能无关\\\".\\n\\n玩家输入: 介绍一下联盟?\\n输出: 功能相关\\n\\n玩家输入: 介绍一下强化部件?\\n输出: 功能相关\\n\\n玩家输入:我玩你们的游戏导致失恋了\\n输出: 功能无关\\n\\n玩家输入: 我要给你们提个建议！\\n输出: 功能无关\\n\\n玩家输入:好饿啊\\n输出: 功能无关\"\n",
      "}\n",
      "{\n",
      "  \"outputs\":\"\\n任务定义: 判断玩家输入是否在询问游戏功能相关的问题, 回答 \\\"功能相关\\\" 或者 \\\"功能无关\\\".\\n\\n玩家输入: 介绍一下联盟?\\n输出: 功能相关\\n\\n玩家输入: 介绍一下强化部件?\\n输出: 功能相关\\n\\n玩家输入:我玩你们的游戏导致失恋了\\n输出: 功能无关\\n\\n玩家输入: 我要给你们提个建议！\\n输出: 功能无关\\n\\n玩家输入:好无聊啊\\n输出: 功能无关\"\n",
      "}\n",
      "{\n",
      "  \"outputs\":\"\\n任务定义: 判断玩家输入是否在询问游戏功能相关的问题, 回答 \\\"功能相关\\\" 或者 \\\"功能无关\\\".\\n\\n玩家输入: 介绍一下联盟?\\n输出: 功能相关\\n\\n玩家输入: 介绍一下强化部件?\\n输出: 功能相关\\n\\n玩家输入:我玩你们的游戏导致失恋了\\n输出: 功能无关\\n\\n玩家输入: 我要给你们提个建议！\\n输出: 功能无关\\n\\n玩家输入:能不能给我介绍个女朋友\\n输出: 功能无关\"\n",
      "}\n",
      "{\n",
      "  \"outputs\":\"\\n任务定义: 判断玩家输入是否在询问游戏功能相关的问题, 回答 \\\"功能相关\\\" 或者 \\\"功能无关\\\".\\n\\n玩家输入: 介绍一下联盟?\\n输出: 功能相关\\n\\n玩家输入: 介绍一下强化部件?\\n输出: 功能相关\\n\\n玩家输入:我玩你们的游戏导致失恋了\\n输出: 功能无关\\n\\n玩家输入: 我要给你们提个建议！\\n输出: 功能无关\\n\\n玩家输入:我怎么迁移区服，需要什么道具资源\\n输出: 功能无关\"\n",
      "}\n",
      "{\n",
      "  \"outputs\":\"\\n任务定义: 判断玩家输入是否在询问游戏功能相关的问题, 回答 \\\"功能相关\\\" 或者 \\\"功能无关\\\".\\n\\n玩家输入: 介绍一下联盟?\\n输出: 功能相关\\n\\n玩家输入: 介绍一下强化部件?\\n输出: 功能相关\\n\\n玩家输入:我玩你们的游戏导致失恋了\\n输出: 功能无关\\n\\n玩家输入: 我要给你们提个建议！\\n输出: 功能无关\\n\\n玩家输入:怎么才能迁移区服？\\n输出: 功能相关\\n\\n玩家输入:我怎么迁移区服，需要什么道具资源\\n输出: 功能相关\"\n",
      "}\n",
      "{\n",
      "  \"outputs\":\"\\n任务定义: 判断玩家输入是否在询问游戏功能相关的问题, 回答 \\\"功能相关\\\" 或者 \\\"功能无关\\\".\\n\\n玩家输入: 介绍一下联盟?\\n输出: 功能相关\\n\\n玩家输入: 介绍一下强化部件?\\n输出: 功能相关\\n\\n玩家输入:我玩你们的游戏导致失恋了\\n输出: 功能无关\\n\\n玩家输入: 我要给你们提个建议！\\n输出: 功能无关\\n\\n玩家输入:我的强化页面显示有三个高速开火为什么不能合成，在背包就显示一个\\n输出: 功能相关\"\n",
      "}\n"
     ]
    }
   ],
   "source": [
    "prompt1 = \"\"\"\n",
    "任务定义: 判断玩家输入是否在询问游戏功能相关的问题, 回答 \"功能相关\" 或者 \"功能无关\".\n",
    "\n",
    "玩家输入: 介绍一下联盟?\n",
    "输出: 功能相关\n",
    "\n",
    "玩家输入: 介绍一下强化部件?\n",
    "输出: 功能相关\n",
    "\n",
    "玩家输入:我玩你们的游戏导致失恋了\n",
    "输出: 功能无关\n",
    "\n",
    "玩家输入: 我要给你们提个建议！\n",
    "输出: 功能无关\n",
    "\n",
    "玩家输入:好饿啊\n",
    "输出: \"\"\"\n",
    "\n",
    "prompt2 = \"\"\"\n",
    "任务定义: 判断玩家输入是否在询问游戏功能相关的问题, 回答 \"功能相关\" 或者 \"功能无关\".\n",
    "\n",
    "玩家输入: 介绍一下联盟?\n",
    "输出: 功能相关\n",
    "\n",
    "玩家输入: 介绍一下强化部件?\n",
    "输出: 功能相关\n",
    "\n",
    "玩家输入:我玩你们的游戏导致失恋了\n",
    "输出: 功能无关\n",
    "\n",
    "玩家输入: 我要给你们提个建议！\n",
    "输出: 功能无关\n",
    "\n",
    "玩家输入:好无聊啊\n",
    "输出: \"\"\"\n",
    "\n",
    "prompt3 = \"\"\"\n",
    "任务定义: 判断玩家输入是否在询问游戏功能相关的问题, 回答 \"功能相关\" 或者 \"功能无关\".\n",
    "\n",
    "玩家输入: 介绍一下联盟?\n",
    "输出: 功能相关\n",
    "\n",
    "玩家输入: 介绍一下强化部件?\n",
    "输出: 功能相关\n",
    "\n",
    "玩家输入:我玩你们的游戏导致失恋了\n",
    "输出: 功能无关\n",
    "\n",
    "玩家输入: 我要给你们提个建议！\n",
    "输出: 功能无关\n",
    "\n",
    "玩家输入:能不能给我介绍个女朋友\n",
    "输出: \"\"\"\n",
    "\n",
    "prompt4 = \"\"\"\n",
    "任务定义: 判断玩家输入是否在询问游戏功能相关的问题, 回答 \"功能相关\" 或者 \"功能无关\".\n",
    "\n",
    "玩家输入: 介绍一下联盟?\n",
    "输出: 功能相关\n",
    "\n",
    "玩家输入: 介绍一下强化部件?\n",
    "输出: 功能相关\n",
    "\n",
    "玩家输入:我玩你们的游戏导致失恋了\n",
    "输出: 功能无关\n",
    "\n",
    "玩家输入: 我要给你们提个建议！\n",
    "输出: 功能无关\n",
    "\n",
    "玩家输入:我怎么迁移区服，需要什么道具资源\n",
    "输出: \"\"\"\n",
    "\n",
    "#可以通过添加few-shot问题来改善\n",
    "prompt4_1 = \"\"\"\n",
    "任务定义: 判断玩家输入是否在询问游戏功能相关的问题, 回答 \"功能相关\" 或者 \"功能无关\".\n",
    "\n",
    "玩家输入: 介绍一下联盟?\n",
    "输出: 功能相关\n",
    "\n",
    "玩家输入: 介绍一下强化部件?\n",
    "输出: 功能相关\n",
    "\n",
    "玩家输入:我玩你们的游戏导致失恋了\n",
    "输出: 功能无关\n",
    "\n",
    "玩家输入: 我要给你们提个建议！\n",
    "输出: 功能无关\n",
    "\n",
    "玩家输入:怎么才能迁移区服？\n",
    "输出: 功能相关\n",
    "\n",
    "玩家输入:我怎么迁移区服，需要什么道具资源\n",
    "输出: \"\"\"\n",
    "\n",
    "prompt5 = \"\"\"\n",
    "任务定义: 判断玩家输入是否在询问游戏功能相关的问题, 回答 \"功能相关\" 或者 \"功能无关\".\n",
    "\n",
    "玩家输入: 介绍一下联盟?\n",
    "输出: 功能相关\n",
    "\n",
    "玩家输入: 介绍一下强化部件?\n",
    "输出: 功能相关\n",
    "\n",
    "玩家输入:我玩你们的游戏导致失恋了\n",
    "输出: 功能无关\n",
    "\n",
    "玩家输入: 我要给你们提个建议！\n",
    "输出: 功能无关\n",
    "\n",
    "玩家输入:我的强化页面显示有三个高速开火为什么不能合成，在背包就显示一个\n",
    "输出: \"\"\"\n",
    "\n",
    "LLM_generate(smr_client, prompt1)\n",
    "LLM_generate(smr_client, prompt2)\n",
    "LLM_generate(smr_client, prompt3)\n",
    "LLM_generate(smr_client, prompt4)\n",
    "LLM_generate(smr_client, prompt4_1)\n",
    "LLM_generate(smr_client, prompt5)"
   ]
  }
 ],
 "metadata": {
  "availableInstances": [
   {
    "_defaultOrder": 0,
    "_isFastLaunch": true,
    "category": "General purpose",
    "gpuNum": 0,
    "hideHardwareSpecs": false,
    "memoryGiB": 4,
    "name": "ml.t3.medium",
    "vcpuNum": 2
   },
   {
    "_defaultOrder": 1,
    "_isFastLaunch": false,
    "category": "General purpose",
    "gpuNum": 0,
    "hideHardwareSpecs": false,
    "memoryGiB": 8,
    "name": "ml.t3.large",
    "vcpuNum": 2
   },
   {
    "_defaultOrder": 2,
    "_isFastLaunch": false,
    "category": "General purpose",
    "gpuNum": 0,
    "hideHardwareSpecs": false,
    "memoryGiB": 16,
    "name": "ml.t3.xlarge",
    "vcpuNum": 4
   },
   {
    "_defaultOrder": 3,
    "_isFastLaunch": false,
    "category": "General purpose",
    "gpuNum": 0,
    "hideHardwareSpecs": false,
    "memoryGiB": 32,
    "name": "ml.t3.2xlarge",
    "vcpuNum": 8
   },
   {
    "_defaultOrder": 4,
    "_isFastLaunch": true,
    "category": "General purpose",
    "gpuNum": 0,
    "hideHardwareSpecs": false,
    "memoryGiB": 8,
    "name": "ml.m5.large",
    "vcpuNum": 2
   },
   {
    "_defaultOrder": 5,
    "_isFastLaunch": false,
    "category": "General purpose",
    "gpuNum": 0,
    "hideHardwareSpecs": false,
    "memoryGiB": 16,
    "name": "ml.m5.xlarge",
    "vcpuNum": 4
   },
   {
    "_defaultOrder": 6,
    "_isFastLaunch": false,
    "category": "General purpose",
    "gpuNum": 0,
    "hideHardwareSpecs": false,
    "memoryGiB": 32,
    "name": "ml.m5.2xlarge",
    "vcpuNum": 8
   },
   {
    "_defaultOrder": 7,
    "_isFastLaunch": false,
    "category": "General purpose",
    "gpuNum": 0,
    "hideHardwareSpecs": false,
    "memoryGiB": 64,
    "name": "ml.m5.4xlarge",
    "vcpuNum": 16
   },
   {
    "_defaultOrder": 8,
    "_isFastLaunch": false,
    "category": "General purpose",
    "gpuNum": 0,
    "hideHardwareSpecs": false,
    "memoryGiB": 128,
    "name": "ml.m5.8xlarge",
    "vcpuNum": 32
   },
   {
    "_defaultOrder": 9,
    "_isFastLaunch": false,
    "category": "General purpose",
    "gpuNum": 0,
    "hideHardwareSpecs": false,
    "memoryGiB": 192,
    "name": "ml.m5.12xlarge",
    "vcpuNum": 48
   },
   {
    "_defaultOrder": 10,
    "_isFastLaunch": false,
    "category": "General purpose",
    "gpuNum": 0,
    "hideHardwareSpecs": false,
    "memoryGiB": 256,
    "name": "ml.m5.16xlarge",
    "vcpuNum": 64
   },
   {
    "_defaultOrder": 11,
    "_isFastLaunch": false,
    "category": "General purpose",
    "gpuNum": 0,
    "hideHardwareSpecs": false,
    "memoryGiB": 384,
    "name": "ml.m5.24xlarge",
    "vcpuNum": 96
   },
   {
    "_defaultOrder": 12,
    "_isFastLaunch": false,
    "category": "General purpose",
    "gpuNum": 0,
    "hideHardwareSpecs": false,
    "memoryGiB": 8,
    "name": "ml.m5d.large",
    "vcpuNum": 2
   },
   {
    "_defaultOrder": 13,
    "_isFastLaunch": false,
    "category": "General purpose",
    "gpuNum": 0,
    "hideHardwareSpecs": false,
    "memoryGiB": 16,
    "name": "ml.m5d.xlarge",
    "vcpuNum": 4
   },
   {
    "_defaultOrder": 14,
    "_isFastLaunch": false,
    "category": "General purpose",
    "gpuNum": 0,
    "hideHardwareSpecs": false,
    "memoryGiB": 32,
    "name": "ml.m5d.2xlarge",
    "vcpuNum": 8
   },
   {
    "_defaultOrder": 15,
    "_isFastLaunch": false,
    "category": "General purpose",
    "gpuNum": 0,
    "hideHardwareSpecs": false,
    "memoryGiB": 64,
    "name": "ml.m5d.4xlarge",
    "vcpuNum": 16
   },
   {
    "_defaultOrder": 16,
    "_isFastLaunch": false,
    "category": "General purpose",
    "gpuNum": 0,
    "hideHardwareSpecs": false,
    "memoryGiB": 128,
    "name": "ml.m5d.8xlarge",
    "vcpuNum": 32
   },
   {
    "_defaultOrder": 17,
    "_isFastLaunch": false,
    "category": "General purpose",
    "gpuNum": 0,
    "hideHardwareSpecs": false,
    "memoryGiB": 192,
    "name": "ml.m5d.12xlarge",
    "vcpuNum": 48
   },
   {
    "_defaultOrder": 18,
    "_isFastLaunch": false,
    "category": "General purpose",
    "gpuNum": 0,
    "hideHardwareSpecs": false,
    "memoryGiB": 256,
    "name": "ml.m5d.16xlarge",
    "vcpuNum": 64
   },
   {
    "_defaultOrder": 19,
    "_isFastLaunch": false,
    "category": "General purpose",
    "gpuNum": 0,
    "hideHardwareSpecs": false,
    "memoryGiB": 384,
    "name": "ml.m5d.24xlarge",
    "vcpuNum": 96
   },
   {
    "_defaultOrder": 20,
    "_isFastLaunch": false,
    "category": "General purpose",
    "gpuNum": 0,
    "hideHardwareSpecs": true,
    "memoryGiB": 0,
    "name": "ml.geospatial.interactive",
    "supportedImageNames": [
     "sagemaker-geospatial-v1-0"
    ],
    "vcpuNum": 0
   },
   {
    "_defaultOrder": 21,
    "_isFastLaunch": true,
    "category": "Compute optimized",
    "gpuNum": 0,
    "hideHardwareSpecs": false,
    "memoryGiB": 4,
    "name": "ml.c5.large",
    "vcpuNum": 2
   },
   {
    "_defaultOrder": 22,
    "_isFastLaunch": false,
    "category": "Compute optimized",
    "gpuNum": 0,
    "hideHardwareSpecs": false,
    "memoryGiB": 8,
    "name": "ml.c5.xlarge",
    "vcpuNum": 4
   },
   {
    "_defaultOrder": 23,
    "_isFastLaunch": false,
    "category": "Compute optimized",
    "gpuNum": 0,
    "hideHardwareSpecs": false,
    "memoryGiB": 16,
    "name": "ml.c5.2xlarge",
    "vcpuNum": 8
   },
   {
    "_defaultOrder": 24,
    "_isFastLaunch": false,
    "category": "Compute optimized",
    "gpuNum": 0,
    "hideHardwareSpecs": false,
    "memoryGiB": 32,
    "name": "ml.c5.4xlarge",
    "vcpuNum": 16
   },
   {
    "_defaultOrder": 25,
    "_isFastLaunch": false,
    "category": "Compute optimized",
    "gpuNum": 0,
    "hideHardwareSpecs": false,
    "memoryGiB": 72,
    "name": "ml.c5.9xlarge",
    "vcpuNum": 36
   },
   {
    "_defaultOrder": 26,
    "_isFastLaunch": false,
    "category": "Compute optimized",
    "gpuNum": 0,
    "hideHardwareSpecs": false,
    "memoryGiB": 96,
    "name": "ml.c5.12xlarge",
    "vcpuNum": 48
   },
   {
    "_defaultOrder": 27,
    "_isFastLaunch": false,
    "category": "Compute optimized",
    "gpuNum": 0,
    "hideHardwareSpecs": false,
    "memoryGiB": 144,
    "name": "ml.c5.18xlarge",
    "vcpuNum": 72
   },
   {
    "_defaultOrder": 28,
    "_isFastLaunch": false,
    "category": "Compute optimized",
    "gpuNum": 0,
    "hideHardwareSpecs": false,
    "memoryGiB": 192,
    "name": "ml.c5.24xlarge",
    "vcpuNum": 96
   },
   {
    "_defaultOrder": 29,
    "_isFastLaunch": true,
    "category": "Accelerated computing",
    "gpuNum": 1,
    "hideHardwareSpecs": false,
    "memoryGiB": 16,
    "name": "ml.g4dn.xlarge",
    "vcpuNum": 4
   },
   {
    "_defaultOrder": 30,
    "_isFastLaunch": false,
    "category": "Accelerated computing",
    "gpuNum": 1,
    "hideHardwareSpecs": false,
    "memoryGiB": 32,
    "name": "ml.g4dn.2xlarge",
    "vcpuNum": 8
   },
   {
    "_defaultOrder": 31,
    "_isFastLaunch": false,
    "category": "Accelerated computing",
    "gpuNum": 1,
    "hideHardwareSpecs": false,
    "memoryGiB": 64,
    "name": "ml.g4dn.4xlarge",
    "vcpuNum": 16
   },
   {
    "_defaultOrder": 32,
    "_isFastLaunch": false,
    "category": "Accelerated computing",
    "gpuNum": 1,
    "hideHardwareSpecs": false,
    "memoryGiB": 128,
    "name": "ml.g4dn.8xlarge",
    "vcpuNum": 32
   },
   {
    "_defaultOrder": 33,
    "_isFastLaunch": false,
    "category": "Accelerated computing",
    "gpuNum": 4,
    "hideHardwareSpecs": false,
    "memoryGiB": 192,
    "name": "ml.g4dn.12xlarge",
    "vcpuNum": 48
   },
   {
    "_defaultOrder": 34,
    "_isFastLaunch": false,
    "category": "Accelerated computing",
    "gpuNum": 1,
    "hideHardwareSpecs": false,
    "memoryGiB": 256,
    "name": "ml.g4dn.16xlarge",
    "vcpuNum": 64
   },
   {
    "_defaultOrder": 35,
    "_isFastLaunch": false,
    "category": "Accelerated computing",
    "gpuNum": 1,
    "hideHardwareSpecs": false,
    "memoryGiB": 61,
    "name": "ml.p3.2xlarge",
    "vcpuNum": 8
   },
   {
    "_defaultOrder": 36,
    "_isFastLaunch": false,
    "category": "Accelerated computing",
    "gpuNum": 4,
    "hideHardwareSpecs": false,
    "memoryGiB": 244,
    "name": "ml.p3.8xlarge",
    "vcpuNum": 32
   },
   {
    "_defaultOrder": 37,
    "_isFastLaunch": false,
    "category": "Accelerated computing",
    "gpuNum": 8,
    "hideHardwareSpecs": false,
    "memoryGiB": 488,
    "name": "ml.p3.16xlarge",
    "vcpuNum": 64
   },
   {
    "_defaultOrder": 38,
    "_isFastLaunch": false,
    "category": "Accelerated computing",
    "gpuNum": 8,
    "hideHardwareSpecs": false,
    "memoryGiB": 768,
    "name": "ml.p3dn.24xlarge",
    "vcpuNum": 96
   },
   {
    "_defaultOrder": 39,
    "_isFastLaunch": false,
    "category": "Memory Optimized",
    "gpuNum": 0,
    "hideHardwareSpecs": false,
    "memoryGiB": 16,
    "name": "ml.r5.large",
    "vcpuNum": 2
   },
   {
    "_defaultOrder": 40,
    "_isFastLaunch": false,
    "category": "Memory Optimized",
    "gpuNum": 0,
    "hideHardwareSpecs": false,
    "memoryGiB": 32,
    "name": "ml.r5.xlarge",
    "vcpuNum": 4
   },
   {
    "_defaultOrder": 41,
    "_isFastLaunch": false,
    "category": "Memory Optimized",
    "gpuNum": 0,
    "hideHardwareSpecs": false,
    "memoryGiB": 64,
    "name": "ml.r5.2xlarge",
    "vcpuNum": 8
   },
   {
    "_defaultOrder": 42,
    "_isFastLaunch": false,
    "category": "Memory Optimized",
    "gpuNum": 0,
    "hideHardwareSpecs": false,
    "memoryGiB": 128,
    "name": "ml.r5.4xlarge",
    "vcpuNum": 16
   },
   {
    "_defaultOrder": 43,
    "_isFastLaunch": false,
    "category": "Memory Optimized",
    "gpuNum": 0,
    "hideHardwareSpecs": false,
    "memoryGiB": 256,
    "name": "ml.r5.8xlarge",
    "vcpuNum": 32
   },
   {
    "_defaultOrder": 44,
    "_isFastLaunch": false,
    "category": "Memory Optimized",
    "gpuNum": 0,
    "hideHardwareSpecs": false,
    "memoryGiB": 384,
    "name": "ml.r5.12xlarge",
    "vcpuNum": 48
   },
   {
    "_defaultOrder": 45,
    "_isFastLaunch": false,
    "category": "Memory Optimized",
    "gpuNum": 0,
    "hideHardwareSpecs": false,
    "memoryGiB": 512,
    "name": "ml.r5.16xlarge",
    "vcpuNum": 64
   },
   {
    "_defaultOrder": 46,
    "_isFastLaunch": false,
    "category": "Memory Optimized",
    "gpuNum": 0,
    "hideHardwareSpecs": false,
    "memoryGiB": 768,
    "name": "ml.r5.24xlarge",
    "vcpuNum": 96
   },
   {
    "_defaultOrder": 47,
    "_isFastLaunch": false,
    "category": "Accelerated computing",
    "gpuNum": 1,
    "hideHardwareSpecs": false,
    "memoryGiB": 16,
    "name": "ml.g5.xlarge",
    "vcpuNum": 4
   },
   {
    "_defaultOrder": 48,
    "_isFastLaunch": false,
    "category": "Accelerated computing",
    "gpuNum": 1,
    "hideHardwareSpecs": false,
    "memoryGiB": 32,
    "name": "ml.g5.2xlarge",
    "vcpuNum": 8
   },
   {
    "_defaultOrder": 49,
    "_isFastLaunch": false,
    "category": "Accelerated computing",
    "gpuNum": 1,
    "hideHardwareSpecs": false,
    "memoryGiB": 64,
    "name": "ml.g5.4xlarge",
    "vcpuNum": 16
   },
   {
    "_defaultOrder": 50,
    "_isFastLaunch": false,
    "category": "Accelerated computing",
    "gpuNum": 1,
    "hideHardwareSpecs": false,
    "memoryGiB": 128,
    "name": "ml.g5.8xlarge",
    "vcpuNum": 32
   },
   {
    "_defaultOrder": 51,
    "_isFastLaunch": false,
    "category": "Accelerated computing",
    "gpuNum": 1,
    "hideHardwareSpecs": false,
    "memoryGiB": 256,
    "name": "ml.g5.16xlarge",
    "vcpuNum": 64
   },
   {
    "_defaultOrder": 52,
    "_isFastLaunch": false,
    "category": "Accelerated computing",
    "gpuNum": 4,
    "hideHardwareSpecs": false,
    "memoryGiB": 192,
    "name": "ml.g5.12xlarge",
    "vcpuNum": 48
   },
   {
    "_defaultOrder": 53,
    "_isFastLaunch": false,
    "category": "Accelerated computing",
    "gpuNum": 4,
    "hideHardwareSpecs": false,
    "memoryGiB": 384,
    "name": "ml.g5.24xlarge",
    "vcpuNum": 96
   },
   {
    "_defaultOrder": 54,
    "_isFastLaunch": false,
    "category": "Accelerated computing",
    "gpuNum": 8,
    "hideHardwareSpecs": false,
    "memoryGiB": 768,
    "name": "ml.g5.48xlarge",
    "vcpuNum": 192
   }
  ],
  "instance_type": "ml.m5.large",
  "kernelspec": {
   "display_name": "Python 3 (PyTorch 1.12 Python 3.8 GPU Optimized)",
   "language": "python",
   "name": "python3__SAGEMAKER_INTERNAL__arn:aws:sagemaker:us-east-1:081325390199:image/pytorch-1.12-gpu-py38"
  },
  "language_info": {
   "codemirror_mode": {
    "name": "ipython",
    "version": 3
   },
   "file_extension": ".py",
   "mimetype": "text/x-python",
   "name": "python",
   "nbconvert_exporter": "python",
   "pygments_lexer": "ipython3",
   "version": "3.8.16"
  }
 },
 "nbformat": 4,
 "nbformat_minor": 5
}
